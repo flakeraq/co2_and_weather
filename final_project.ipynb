{
 "cells": [
  {
   "cell_type": "markdown",
   "metadata": {},
   "source": [
    "# CO2 and Weather\n",
    "\n",
    "## Formalia:\n",
    "\n",
    "The analysis in this notebook, will explore the CO2 on a Worldwide and EU scale. Where a deeper look will be taken on the top 5 with respectively highest and lowest CO2 emissions. A comparison between EU and those countries will also be carried out. "
   ]
  },
  {
   "cell_type": "markdown",
   "metadata": {},
   "source": [
    "## Part 1: Development of CO2 emission in the world"
   ]
  },
  {
   "cell_type": "code",
   "execution_count": null,
   "metadata": {},
   "outputs": [],
   "source": [
    "# List of EU27 countries (excluding UK)\n",
    "EU = ['Austria','Belgium','Bulgaria','Croatia','Cyprus','Czechia','Denmark','Estonia','Finland','France','Germany','Greece','Hungary','Ireland','Italy','Latvia','Lithuania','Luxembourg','Malta','Netherlands','Poland','Portugal','Romania','Slovakia','Slovenia','Spain','Sweden'] "
   ]
  },
  {
   "cell_type": "markdown",
   "metadata": {},
   "source": [
    "#### Preparing the data to fit the format needed for the analysis\n"
   ]
  },
  {
   "cell_type": "code",
   "execution_count": null,
   "metadata": {},
   "outputs": [],
   "source": [
    "# Import libraries need for the analysis\n",
    "from math import ceil\n",
    "import math\n",
    "import pandas as pd\n",
    "import matplotlib.pyplot as plt\n",
    "import numpy as np\n",
    "import plotly.graph_objects as go\n",
    "import plotly.express as px\n",
    "import geojson\n",
    "#Only two digit after the decimal point\n",
    "pd.set_option('display.float_format', lambda x: '%.2f' % x)\n",
    "\n",
    "import warnings\n",
    "warnings.simplefilter(action='ignore', category=FutureWarning) # https://stackoverflow.com/questions/15777951/how-to-suppress-pandas-future-warning"
   ]
  },
  {
   "cell_type": "code",
   "execution_count": null,
   "metadata": {},
   "outputs": [],
   "source": [
    "# Cleaning the data and renaming the columns\n",
    "df= pd.read_csv('annual-co2-emissions-per-country.csv')\n",
    "#replace NaN with 0\n",
    "df = df.fillna(0)  \n",
    "#replace inf with 0\n",
    "df = df.replace([np.inf, -np.inf], 0)\n",
    "\n",
    "# if Slovak Republic then replace with Slovakia\n",
    "df.replace(to_replace='Slovak Republic', value='Slovakia', inplace=True)\n",
    "# Czech Republic to Czechia\n",
    "df.replace(to_replace='Czech Republic', value = 'Czechia', inplace=True)\n",
    "df = df.drop(columns=['Code'])\n",
    "df = df.rename(columns={'Entity': 'Country Name'})\n",
    "\n",
    "# How does it look\n",
    "df.head()"
   ]
  },
  {
   "cell_type": "code",
   "execution_count": null,
   "metadata": {},
   "outputs": [],
   "source": [
    "# Change the data to be in the format of a table\n",
    "df = df.pivot(index='Country Name', columns='Year', values='Annual CO2 emissions')\n",
    "df = df.reset_index()\n",
    "df = df.rename(columns={'Country Name': 'Country Name'})\n",
    "df = df.set_index('Country Name')\n",
    "df = df.fillna(0)\n",
    "# remove the word Year, so Country moved one up\n",
    "df.columns.name = None\n",
    "df = df.reset_index()"
   ]
  },
  {
   "cell_type": "code",
   "execution_count": null,
   "metadata": {},
   "outputs": [],
   "source": [
    "# Removing the years that are not needed - only looking at 1960 onwards\n",
    "col_list = []\n",
    "for year in range(1750, 1960):\n",
    "    col_list.append(int(year))\n",
    "\n",
    "# drop column thats in the col_list\n",
    "df.drop(columns=col_list, axis=1, inplace=True)\n",
    "df.head()"
   ]
  },
  {
   "cell_type": "code",
   "execution_count": null,
   "metadata": {},
   "outputs": [],
   "source": [
    "# Keep the original data safe and create a new dataframe for the EU countries\n",
    "df_EU = df.copy()\n",
    "df_EU = df_EU[df_EU['Country Name'].isin(EU)]"
   ]
  },
  {
   "cell_type": "code",
   "execution_count": null,
   "metadata": {},
   "outputs": [],
   "source": [
    "# Some basis statistics using stats for EU CO2 emission\n",
    "df_EU.describe()\n"
   ]
  },
  {
   "cell_type": "code",
   "execution_count": null,
   "metadata": {},
   "outputs": [],
   "source": [
    "df_EU_yearly = df.copy()\n",
    "df_EU_yearly = df_EU.melt(id_vars='Country Name', var_name='Year', value_name='CO2 Emission')\n",
    "df_EU_yearly.head()\n"
   ]
  },
  {
   "cell_type": "markdown",
   "metadata": {},
   "source": [
    "#### Visualization of the data"
   ]
  },
  {
   "cell_type": "code",
   "execution_count": null,
   "metadata": {},
   "outputs": [],
   "source": [
    "# Creates a bar chart for each country in the EU using supblot to show each country in a different plot\n",
    "col = 3\n",
    "rows = math.ceil(len(EU) / col)\n",
    "\n",
    "\n",
    "fig, ax = plt.subplots(rows, col, sharex=True, figsize=(24, 15))\n",
    "\n",
    "for index, country in enumerate(EU):\n",
    "    plt.subplot(rows, col, index+1)\n",
    "    plt.title(country)#, x = 0.1, y=0.7, pad=20) \n",
    "    plt.xlabel('Year')\n",
    "    plt.ylabel('CO2 Emission')\n",
    "    y_min, y_max = 0, df_EU_yearly[df_EU_yearly['Country Name'] == country]['CO2 Emission'].max()   \n",
    "    #print(f'{country} --> y_min: {y_min}, y_max: {y_max}')\n",
    "    plt.ylim([y_min, y_max])\n",
    "    y_interval = int((y_max - y_min) / 5) if y_max > 5 else 5\n",
    "    plt.yticks(range(0, int(y_max), y_interval))\n",
    "    plt.xticks(rotation=90)\n",
    "    # Bar chart for each country with the CO2 emission for each year\n",
    "    plt.bar(df_EU_yearly[df_EU_yearly['Country Name'] == country]['Year'], df_EU_yearly[df_EU_yearly['Country Name'] == country]['CO2 Emission'])\n",
    "   \n",
    "    plt.tight_layout()\n",
    "    plt.title('CO2 Emission for ' + country)\n",
    "plt.tight_layout()\n",
    "\n",
    "# save to html\n",
    "plt.savefig('CO2_Emission_EU.png')\n",
    "fig.suptitle('CO2 Emission for each country in the EU distribuated through the years 1960-2018', fontsize=16, y=1.05)\n",
    "plt.show()"
   ]
  },
  {
   "cell_type": "markdown",
   "metadata": {},
   "source": [
    "The plot above shows the CO2 development for each country in the EU, this plot illustrate which countries has the higest and lowest CO2 emission. It can be seen that throughout the years, Germany have the hiigest emissions, while a country like Malta has the lowest emissions."
   ]
  },
  {
   "cell_type": "code",
   "execution_count": null,
   "metadata": {},
   "outputs": [],
   "source": [
    "# Total emission for world for each year\n",
    "df_world = df.copy()\n",
    "# should only have the Country World\n",
    "df_world = df_world[df_world['Country Name'] == 'World']\n",
    "# drop the Country World\n",
    "df_world = df_world.sum(axis=0)\n",
    "df_world = df_world.reset_index()\n",
    "df_world.columns = ['Year', 'CO2 Emission']\n",
    "#remove max_year and year_max\n",
    "df_world = df_world.drop(df_world[df_world['Year'] == 'max_year'].index)\n",
    "df_world = df_world.drop(df_world[df_world['Year'] == 'year_max'].index)\n",
    "#plot the total CO2 emission for the world\n",
    "fig = px.line(df_world, x='Year', y='CO2 Emission',title='CO2 Emission per year for the world from 1960-2022')\n",
    "fig.show()\n",
    "fig.write_html(\"CO2_Emission_world_1960_2022.html\")"
   ]
  },
  {
   "cell_type": "markdown",
   "metadata": {},
   "source": [
    "This plot shows the total CO2 emission for the world from 1960-2022. The plot shows that the CO2 emission has been increasing over the years.\n",
    "Worth noting is 1973-1975, 1979-1980, 1991-1992, 2009 and 2020. Seems like something happen in those, since the curve breaks in those places."
   ]
  },
  {
   "cell_type": "code",
   "execution_count": null,
   "metadata": {},
   "outputs": [],
   "source": [
    "# Timeserie with world co2 emission\n",
    "df_world = df.copy()\n",
    "\n",
    "list_world = ['Afghanistan', 'Albania', 'Algeria', 'Andorra', 'Angola', 'Antigua and Barbuda', 'Argentina', 'Armenia', 'Australia', 'Austria', 'Azerbaijan', 'Bahamas', 'Bahrain', 'Bangladesh', 'Barbados', 'Belarus', 'Belgium', 'Belize', 'Benin', 'Bhutan', 'Bolivia', 'Bosnia and Herzegovina', 'Botswana', 'Brazil', 'Brunei', 'Bulgaria', 'Burkina Faso', 'Burundi', 'Cambodia', 'Cameroon', 'Canada', 'Cape Verde', 'Central African Republic', 'Chad', 'Chile', 'China', 'Colombia', 'Comoros', 'Congo', 'Costa Rica', 'Croatia', 'Cuba', 'Cyprus', 'Czechia', 'Denmark', 'Djibouti', 'Dominica', 'Dominican Republic', 'Ecuador', 'Egypt', 'El Salvador', 'Equatorial Guinea', 'Eritrea', 'Estonia', 'Eswatini', 'Ethiopia', 'Fiji', 'Finland', 'France', 'Gabon', 'Gambia', 'Georgia', 'Germany', 'Ghana', 'Greece', 'Grenada', 'Guatemala', 'Guinea', 'Guinea-Bissau', 'Guyana', 'Haiti', 'Honduras', 'Hungary', 'Iceland', 'India', 'Indonesia', 'Iran', 'Iraq', \n",
    "              'Ireland', 'Israel', 'Italy', 'Jamaica', 'Japan', 'Jordan', 'Kazakhstan', 'Kenya', 'Kiribati', 'Kuwait', 'Kyrgyzstan', 'Laos', 'Latvia', 'Lebanon', 'Lesotho', 'Liberia', 'Libya', 'Liechtenstein', 'Lithuania', 'Luxembourg', 'Madagascar', 'Malawi', 'Malaysia', 'Maldives', 'Mali', 'Malta', 'Marshall Islands', 'Mauritania', 'Mauritius', 'Mexico', 'Micronesia', 'Moldova', 'Monaco', 'Mongolia', 'Montenegro', 'Morocco', 'Mozambique', 'Myanmar', 'Namibia', 'Nauru', 'Nepal', 'Netherlands', 'New Zealand', 'Nicaragua', 'Niger', 'Nigeria', 'North Korea', 'North Macedonia', 'Norway', 'Oman', 'Pakistan',\n",
    "              'Palau', 'Panama', 'Papua New Guinea', 'Paraguay', 'Peru', 'Philippines', 'Poland', 'Portugal', 'Qatar', 'Romania', 'Russia', 'Rwanda', 'Saint Kitts and Nevis', 'Saint Lucia', 'Saint Vincent and the Grenadines', 'Samoa', 'San Marino', 'Sao Tome and Principe', 'Saudi Arabia', 'Senegal', 'Serbia', 'Seychelles', 'Sierra Leone', 'Singapore', 'Slovakia', 'Slovenia', 'Solomon Islands', 'Somalia', 'South Africa', 'South Korea', 'South Sudan', 'Spain', 'Sri Lanka', 'Sudan', 'Suriname', 'Sweden', 'Switzerland', 'Syria', 'Tajikistan', 'Tanzania', 'Thailand', 'Timor-Leste', 'Togo', 'Tonga', 'Trinidad and Tobago', 'Tunisia', 'Turkey', 'Turkmenistan', 'Tuvalu', 'Uganda', 'Ukraine', 'United Arab Emirates', 'United Kingdom', 'United States', 'Uruguay', 'Uzbekistan', 'Vanuatu', 'Vatican City', 'Venezuela', 'Vietnam', 'Yemen', 'Zambia', 'Zimbabwe']\n",
    "\n",
    "df_world = df_world[df_world['Country Name'].isin(list_world)]\n",
    "df_world = df_world[~df_world['Country Name'].isin(EU)]\n",
    "df_world_yearly = df_world.melt(id_vars='Country Name', var_name='Year', value_name='CO2 Emission')\n",
    "#plot the world co2 emission\n",
    "fig = px.line(df_world_yearly, x='Year', y='CO2 Emission', color='Country Name', title='CO2 Emission per year for each country in the world except EU countries')\n",
    "fig.show()\n",
    "# save interactive figure as html\n",
    "fig.write_html(\"CO2_Emission_World.html\")"
   ]
  },
  {
   "cell_type": "markdown",
   "metadata": {},
   "source": [
    "This plot shows every country in the world except for the EU countries. It can clearly be seen the top 5 emitters in the world, but the top 5 lowest is harder.\n",
    "To see the top 5 lowest emitters, it needs to be zoomed all the way in.\n",
    "\n",
    "Top 5 highest = ['China', 'United States', 'India', 'Russia', 'Japan']\n",
    "\n",
    "Top 5 lowest =  ['Tuvalu', 'Nauru', 'Kiribati', 'Sao Tome and Principe', 'Liechtenstein']"
   ]
  },
  {
   "cell_type": "code",
   "execution_count": null,
   "metadata": {},
   "outputs": [],
   "source": [
    "# Top 10 list with highest CO2 emission in 2018\n",
    "top_5 = ['China', 'United States', 'India', 'Russia', 'Japan']\n",
    "highest_country = df.copy()\n",
    "highest_country =  highest_country[highest_country['Country Name'].isin(top_5)]\n",
    "highest_country =highest_country.reset_index()\n",
    "highest_country = highest_country.melt(id_vars='Country Name', var_name='Year', value_name='CO2 Emission')\n",
    "\n",
    "\n",
    "df_EU_total = df_EU.copy()\n",
    "df_EU_total = df_EU_total.drop(columns=['Country Name'])\n",
    "df_EU_total = df_EU_total.sum(axis=0)\n",
    "df_EU_total = df_EU_total.reset_index()\n",
    "df_EU_total.columns = ['Year', 'CO2 Emission']\n",
    "df_EU_total['Country Name'] = 'EU'\n",
    "\n",
    "# Combine the data for the EU and the top 5 countries\n",
    "df_combine = pd.concat([df_EU_total, highest_country])\n",
    "\n",
    "#remove column with NaN\n",
    "df_combine = df_combine.drop(df_combine[df_combine['Year'] == 'max_year'].index)\n",
    "df_combine = df_combine.drop(df_combine[df_combine['Year'] == 'year_max'].index)\n",
    "df_combine = df_combine.drop(df_combine[df_combine['Year'] == 'year_min'].index)\n",
    "\n",
    "#plot the total CO2 emission for the world\n",
    "fig = px.line(df_combine, x='Year', y='CO2 Emission', color='Country Name', title='CO2 Emission per year for the current top 5 emitters compared to EU from 1960-2018')\n",
    "fig.show()\n",
    "fig.write_html(\"CO2_top_5_vs-EU_emission_world_1960_2018.html\")"
   ]
  },
  {
   "cell_type": "markdown",
   "metadata": {},
   "source": [
    "This plot give a good visualization on how EU compares to the top 5 emitters in the world.\n",
    "It can be seen that while China and India is increasing, the others countries is either stable or lowering it's CO2."
   ]
  },
  {
   "cell_type": "code",
   "execution_count": null,
   "metadata": {},
   "outputs": [],
   "source": [
    "# Top 10 list with highest CO2 emission in 2018\n",
    "lowest_top_5 = ['Tuvalu', 'Nauru', 'Kiribati', 'Sao Tome and Principe', 'Liechtenstein']\n",
    "lowest_country = df.copy()\n",
    "lowest_country =  lowest_country[lowest_country['Country Name'].isin(lowest_top_5)]\n",
    "lowest_country =lowest_country.reset_index()\n",
    "lowest_country = lowest_country.melt(id_vars='Country Name', var_name='Year', value_name='CO2 Emission')\n",
    "\n",
    "# Combine the data for the EU and the top 5 countries\n",
    "df_combine = pd.concat([df_EU_total, lowest_country])\n",
    "\n",
    "#remove column with NaN\n",
    "df_combine = df_combine.drop(df_combine[df_combine['Year'] == 'max_year'].index)\n",
    "df_combine = df_combine.drop(df_combine[df_combine['Year'] == 'year_max'].index)\n",
    "df_combine = df_combine.drop(df_combine[df_combine['Year'] == 'year_min'].index)\n",
    "\n",
    "#plot the total CO2 emission for the world\n",
    "fig = px.line(df_combine, x='Year', y='CO2 Emission', color='Country Name', title='CO2 Emission per year for the current lowest top 5 emitters compared to EU from 1960-2018')\n",
    "fig.show()\n",
    "fig.write_html(\"CO2_lowest_top_5_vs-EU_emission_world_1960_2018.html\")"
   ]
  },
  {
   "cell_type": "markdown",
   "metadata": {},
   "source": [
    "This plot clearly showcase, how much more EU emits compared to those in the lowest end. When EU is shown, the others isn't shown - EU have to be removed before the development of CO2 emission can be seen for those countries with the lowest CO\" emissions."
   ]
  },
  {
   "cell_type": "code",
   "execution_count": null,
   "metadata": {},
   "outputs": [],
   "source": [
    "# First first row is the year and first coloumn is the country name, make a plot where the x-axis is the year and the y-axis is the CO2 emission and make it so theres a subplot for each country\n",
    "fig = px.line(df_EU_yearly, x='Year', y='CO2 Emission', color='Country Name', title='CO2 Emission per year for each country in the EU')\n",
    "fig.show()\n",
    "# save interactive figure as html\n",
    "fig.write_html(\"CO2_Emission_EU.html\")\n"
   ]
  },
  {
   "cell_type": "markdown",
   "metadata": {},
   "source": [
    "This plot shows that Germany is clearly the highest emitter of CO2 throughout the years in EU. Again, need to zoom in to see the country with the lowest emissions."
   ]
  },
  {
   "cell_type": "code",
   "execution_count": null,
   "metadata": {},
   "outputs": [],
   "source": [
    "# plotly bar chart with country name, max_year, year_max, min_year and year_min\n",
    "fig = go.Figure(data=[ go.Bar(name='Min CO2 Emission', x=df_EU['Country Name'], y=df_EU['min_year'], text=df_EU['year_min'], textposition='auto'),\n",
    "                      go.Bar(name='Max CO2 Emission', x=df_EU['Country Name'], y=df_EU['max_year'], text=df_EU['year_max'], textposition='auto')])\n",
    "fig.update_layout(title='Max and Min CO2 Emission and Year of Max and Min CO2 Emission for EU countries', barmode='group')\n",
    "fig.write_html(\"Bar_chart_Max_and_Min_CO2_Emission_and_Year_of_Max_and_Min_CO2_Emission_for_EU_countries.html\")\n",
    "fig.show()"
   ]
  },
  {
   "cell_type": "markdown",
   "metadata": {},
   "source": [
    "A bar chart that shows when a country has it lowest and highest CO2 emission. Again Germany tops, while Matla is in the lowest end of the spectra."
   ]
  },
  {
   "cell_type": "code",
   "execution_count": null,
   "metadata": {},
   "outputs": [],
   "source": [
    "# max value in df_EU_yearly\n",
    "max_value = df_EU_yearly['CO2 Emission'].max()\n",
    "# min value in df_EU_yearly\n",
    "min_value = df_EU_yearly['CO2 Emission'].min()"
   ]
  },
  {
   "cell_type": "code",
   "execution_count": null,
   "metadata": {},
   "outputs": [],
   "source": [
    "with  open('europe.geojson') as response: #### Using the geojson of lat and lon of San Fransisco\n",
    "    counties = geojson.load(response) \n",
    "\n",
    "fig = px.choropleth(df_EU_yearly, \n",
    "                           geojson=counties, \n",
    "                           locations='Country Name', \n",
    "                           featureidkey='properties.NAME',\n",
    "                           color='CO2 Emission',\n",
    "                           color_continuous_scale= \"turbo\", ## ????\n",
    "                           hover_name = 'Country Name',\n",
    "                           hover_data=  ['Year', 'CO2 Emission'],\n",
    "                           animation_frame='Year',\n",
    "                           #locationmode='geojson-id',\n",
    "                           range_color=(min_value, max_value),\n",
    "                           #mapbox_style=\"carto-positron\",\n",
    "                           scope='europe',\n",
    "                           center = {\"lat\":52.52000660, \"lon\": 13.404954007},\n",
    "                           #opacity=1,\n",
    "                           #labels={'CO2 Emission':'CO2 Emission'}\n",
    "                           width=1000, height=800,\n",
    "                           title = 'CO2 for EU from 1960-2018'\n",
    "                          )\n",
    "\n",
    "fig.update_layout(margin={\"r\":0,\"t\":0,\"l\":0,\"b\":0})\n",
    "fig.show()\n",
    "#save as html\n",
    "fig.write_html(\"CO2_Emission_EU_Map_Online.html\", include_plotlyjs='cdn')\n",
    "\"\"\"'tealrose', 'tempo', 'temps', 'thermal', 'tropic', 'turbid',\n",
    "             'turbo', 'twilight', 'viridis', 'ylgn', 'ylgnbu', 'ylorbr',\n",
    "             'ylorrd'].\"\"\""
   ]
  },
  {
   "cell_type": "markdown",
   "metadata": {},
   "source": [
    "A great visualization of the development of CO2 for EU."
   ]
  },
  {
   "cell_type": "markdown",
   "metadata": {},
   "source": [
    "## Part 2: \n",
    "## Exploring CO2 Emission in Europe: A look into the history of Highs and Lows\n",
    "The following is focusing on visiualisations that shows the highs and lows of the co2 emission history in Europe.\n",
    "Line plots, and visualisation of geodata using plotly."
   ]
  },
  {
   "cell_type": "code",
   "execution_count": null,
   "metadata": {},
   "outputs": [],
   "source": [
    "# Import libraries\n",
    "import pandas as pd\n",
    "import matplotlib.pyplot as plt\n",
    "from scipy.signal import find_peaks, find_peaks, find_peaks, find_peaks\n",
    "\n",
    "# Only two digits after the decimal point\n",
    "pd.set_option('display.float_format', lambda x: '%.2f' % x)\n",
    "\n",
    "# Filter data for the years between 1900 and 2022\n",
    "df_EU_yearly = df_EU_yearly[(df_EU_yearly['Year'] >= 1900) & (df_EU_yearly['Year'] <= 2022)]\n",
    "\n",
    "# Total CO2 emissions for each year\n",
    "total_CO2_each_year = df_EU_yearly.groupby('Year')['CO2 Emission'].sum()\n",
    "\n",
    "# Find peaks in the data\n",
    "peaks, _ = find_peaks(total_CO2_each_year.values)\n",
    "valleys, _ = find_peaks(-total_CO2_each_year.values)\n",
    "\n",
    "# Plot the total CO2 emission for each year\n",
    "plt.figure(figsize=(15, 6))\n",
    "plt.plot(total_CO2_each_year.index, total_CO2_each_year.values, linestyle='-')\n",
    "\n",
    "# Plot peaks and valleys\n",
    "plt.plot(total_CO2_each_year.index[peaks], total_CO2_each_year.values[peaks], marker='o', linestyle='', color='red', markersize=8)\n",
    "plt.plot(total_CO2_each_year.index[valleys], total_CO2_each_year.values[valleys], marker='o', linestyle='', color='green', markersize=8)\n",
    "\n",
    "plt.xlabel('Year')\n",
    "plt.ylabel('Total CO2 Emission')\n",
    "plt.title('Total CO2 Emission for each year (EU Countries)')\n",
    "plt.xticks(total_CO2_each_year.index, rotation=90)  # Set x-axis ticks every year\n",
    "plt.xlim(1960, 2022)\n",
    "plt.grid()\n",
    "plt.savefig('Total_CO2_Emission_for_each_year_EU.png')\n",
    "plt.show()\n"
   ]
  },
  {
   "cell_type": "markdown",
   "metadata": {},
   "source": [
    "This is a linear plot that showcases the total amount of CO2 emission in europe each year. We do see a high increase of CO2 emission in year 1979, while the lowest CO2 emission after 1979 was in year 2020. "
   ]
  },
  {
   "cell_type": "code",
   "execution_count": null,
   "metadata": {},
   "outputs": [],
   "source": [
    "# Filter data for the year 1990\n",
    "# Filter data for the year 1990\n",
    "df_1979 = df_EU_yearly[df_EU_yearly['Year'] == 1979]\n",
    "\n",
    "# max value in de_EU_yearly\n",
    "max_value = df_EU_yearly['CO2 Emission'].max()\n",
    "# min value in df_EU_yearly\n",
    "min_value = df_EU_yearly['CO2 Emission'].min()\n",
    "\n",
    "with  open('europe.geojson') as response: #### Using the geojson of lat and lon of San Fransisco\n",
    "    counties = geojson.load(response) \n",
    "\n",
    "fig = px.choropleth(df_1979, \n",
    "                           geojson=counties, \n",
    "                           locations='Country Name', \n",
    "                           featureidkey='properties.NAME',\n",
    "                           color='CO2 Emission',\n",
    "                           color_continuous_scale= \"turbo\", ## ????\n",
    "                           hover_name = 'Country Name',\n",
    "                           hover_data=  ['Year', 'CO2 Emission'],\n",
    "                           animation_frame='Year',\n",
    "                           #locationmode='geojson-id',\n",
    "                           range_color=(min_value, max_value),\n",
    "                           #mapbox_style=\"carto-positron\",\n",
    "                           scope='europe',\n",
    "                           center = {\"lat\":52.52000660, \"lon\": 13.404954007},\n",
    "                           #opacity=1,\n",
    "                           #labels={'CO2 Emission':'CO2 Emission'}\n",
    "                           width=700, height=500,\n",
    "                           title = 'CO2 for EU from 1960-2018'\n",
    "                          )\n",
    "\n",
    "fig.update_layout(margin={\"r\":0,\"t\":0,\"l\":0,\"b\":0})\n",
    "fig.show()\n",
    "#save as html\n",
    "fig.write_html(\"CO2_Emission_EU_Map_Online.html\", include_plotlyjs='cdn')\n",
    "\"\"\"'tealrose', 'tempo', 'temps', 'thermal', 'tropic', 'turbid',\n",
    "             'turbo', 'twilight', 'viridis', 'ylgn', 'ylgnbu', 'ylorbr',\n",
    "             'ylorrd'].\"\"\""
   ]
  },
  {
   "cell_type": "markdown",
   "metadata": {},
   "source": [
    "The colors on the map showcases the CO2 emission in EU in 1990. The reasoning behind showcasing CO2 emission for that year is because it is the year that EU experienced the most CO2 emission as seen in the Linear plot. When zooming in, we do see that Luxemborg is the only red country on the map, which means that Luxemborg is most likely to be the country in 1990 with the highest CO2 emission. Furthermore we see that Portugal is the country that is the most dark blue country on the map, and therefor is the country that most likely had the lowest CO2 emission in 1990. To make sure that these observations are correct, we just cross checked by doing the following. "
   ]
  },
  {
   "cell_type": "code",
   "execution_count": null,
   "metadata": {},
   "outputs": [],
   "source": [
    "#Highest CO2 emission in 1990\n",
    "highest_emission_row = df_1979.loc[df_1979['CO2 Emission'].idxmax()]\n",
    "\n",
    "# Extract the country name and its corresponding CO2 emission value\n",
    "highest_emission_country = highest_emission_row['Country Name']\n",
    "highest_emission_value = highest_emission_row['CO2 Emission']\n",
    "\n",
    "# Lowest CO2 emission in 1990\n",
    "lowest_emission_row = df_1979.loc[df_1979['CO2 Emission'].idxmin()]\n",
    "\n",
    "# Extract the country name and its corresponding CO2 emission value\n",
    "lowest_emission_country = lowest_emission_row['Country Name']\n",
    "lowest_emission_value = lowest_emission_row['CO2 Emission']\n",
    "\n",
    "print(\"Country with the highest CO2 emission in 1990:\", highest_emission_country)\n",
    "print(\"CO2 emission value:\", highest_emission_value)\n",
    "\n",
    "print(\"\\nCountry with the lowest CO2 emission in 1990:\", lowest_emission_country)\n",
    "print(\"CO2 emission value:\", lowest_emission_value)\n"
   ]
  },
  {
   "cell_type": "markdown",
   "metadata": {},
   "source": [
    "As seen in the print out statements, Luxemborg is the country that had the highest CO2 emission in year 1990, while Portugal was the country with the lowest CO2 emission. Another interesting perspective was to look into 2018 and see which country had the highest CO2 emission and the country with the CO2 emission with the lowest CO2 emission."
   ]
  },
  {
   "cell_type": "code",
   "execution_count": null,
   "metadata": {},
   "outputs": [],
   "source": [
    "df_2020 = df_EU_yearly[df_EU_yearly['Year'] == '2020']\n",
    "# Highest CO2 emission in 1990\n",
    "highest_emission_row = df_2020.loc[df_2020['CO2 Emission'].idxmax()]\n",
    "\n",
    "# Extract the country name and its corresponding CO2 emission value\n",
    "highest_emission_country = highest_emission_row['Country Name']\n",
    "highest_emission_value = highest_emission_row['CO2 Emission']\n",
    "\n",
    "# Lowest CO2 emission in 1990\n",
    "lowest_emission_row = df_2020.loc[df_2020['CO2 Emission'].idxmin()]\n",
    "\n",
    "# Extract the country name and its corresponding CO2 emission value\n",
    "lowest_emission_country = lowest_emission_row['Country Name']\n",
    "lowest_emission_value = lowest_emission_row['CO2 Emission']\n",
    "\n",
    "print(\"Country with the highest CO2 emission in 2020:\", highest_emission_country)\n",
    "print(\"CO2 emission value:\", highest_emission_value)\n",
    "\n",
    "print(\"\\nCountry with the lowest CO2 emission in 2020:\", lowest_emission_country)\n",
    "print(\"CO2 emission value:\", lowest_emission_value)\n"
   ]
  },
  {
   "cell_type": "markdown",
   "metadata": {},
   "source": [
    "Luxemborg still remains as the EU country with the highest CO2 emission, while Malta in 2018 is now the EU country with the lowest CO2 emission. "
   ]
  },
  {
   "cell_type": "code",
   "execution_count": null,
   "metadata": {},
   "outputs": [],
   "source": [
    "df_2015 = df_EU_yearly[df_EU_yearly['Year'] == '2015']\n",
    "# Highest CO2 emission in 1990\n",
    "highest_emission_row = df_2015.loc[df_2015['CO2 Emission'].idxmax()]\n",
    "\n",
    "# Extract the country name and its corresponding CO2 emission value\n",
    "highest_emission_country = highest_emission_row['Country Name']\n",
    "highest_emission_value = highest_emission_row['CO2 Emission']\n",
    "\n",
    "# Lowest CO2 emission in 1990\n",
    "lowest_emission_row = df_2015.loc[df_2015['CO2 Emission'].idxmin()]\n",
    "\n",
    "# Extract the country name and its corresponding CO2 emission value\n",
    "lowest_emission_country = lowest_emission_row['Country Name']\n",
    "lowest_emission_value = lowest_emission_row['CO2 Emission']\n",
    "\n",
    "print(\"Country with the highest CO2 emission in 2015:\", highest_emission_country)\n",
    "print(\"CO2 emission value:\", highest_emission_value)\n",
    "\n",
    "print(\"\\nCountry with the lowest CO2 emission in 2015:\", lowest_emission_country)\n",
    "print(\"CO2 emission value:\", lowest_emission_value)"
   ]
  },
  {
   "cell_type": "markdown",
   "metadata": {},
   "source": [
    "As seen in the line plot earlier, the year that had the lowest CO2 emission after 1990 was year 2015. The above showcases the highest and lowest CO2 emission by a country.\n",
    "\n",
    "Luxemborg had once again the highest CO2 emission, while Romania had the lowest CO2 emission that year"
   ]
  },
  {
   "cell_type": "markdown",
   "metadata": {},
   "source": [
    "## Part 3: Extreme weather "
   ]
  },
  {
   "cell_type": "code",
   "execution_count": null,
   "metadata": {},
   "outputs": [],
   "source": [
    "import pandas as pd\n",
    "import numpy as np\n",
    "import matplotlib.pyplot as plt\n",
    "from bokeh.plotting import figure, show, output_file\n",
    "from bokeh.models import Legend, HoverTool, ColumnDataSource\n",
    "from bokeh.layouts import gridplot\n",
    "from bokeh.models import FixedTicker\n",
    "\n",
    "# For EU dataset \n",
    "excel_file_EU = 'EU_disasters.xlsx'\n",
    "\n",
    "df = pd.read_excel(excel_file_EU)\n",
    "\n",
    "df.drop(columns=['Historic', 'Classification Key','External IDs', 'Event Name','OFDA/BHA Response','Appeal','Declaration',\"AID Contribution ('000 US$)\", 'Magnitude','Magnitude Scale', 'Latitude','Longitude','River Basin','Start Day','Total Deaths','No. Injured','No. Affected','No. Homeless','Total Affected',\"Reconstruction Costs ('000 US$)\", \n",
    "                 \"Reconstruction Costs, Adjusted ('000 US$)\",\"Insured Damage ('000 US$)\", \"Insured Damage, Adjusted ('000 US$)\", \"Total Damage ('000 US$)\",\"Total Damage, Adjusted ('000 US$)\",'CPI', \"Admin Units\",\"Entry Date\", 'Last Update','Origin','Associated Types'], inplace=True)\n",
    "\n",
    "\n",
    "df['Start Year'] = pd.to_datetime(df['Start Year'], format='%Y').dt.year\n",
    "\n",
    "# For WorldWide dataset\n",
    "excel_file_World = 'WW.xlsx'\n",
    "\n",
    "df_world = pd.read_excel(excel_file_World)\n",
    "df_world.drop(columns=['Historic', 'Classification Key','External IDs', 'Event Name','OFDA/BHA Response','Appeal','Declaration',\"AID Contribution ('000 US$)\", 'Magnitude','Magnitude Scale', 'Latitude','Longitude','River Basin','Start Day','Total Deaths','No. Injured','No. Affected','No. Homeless','Total Affected',\"Reconstruction Costs ('000 US$)\", \n",
    "                 \"Reconstruction Costs, Adjusted ('000 US$)\",\"Insured Damage ('000 US$)\", \"Insured Damage, Adjusted ('000 US$)\", \"Total Damage ('000 US$)\",\"Total Damage, Adjusted ('000 US$)\",'CPI', \"Admin Units\",\"Entry Date\", 'Last Update','Origin','Associated Types'], inplace=True)\n",
    "\n",
    "\n",
    "df_world['Start Year'] = pd.to_datetime(df['Start Year'], format='%Y').dt.year\n",
    "\n",
    "\n",
    "\n",
    "# global values\n",
    "generic_colors = ['red', 'yellow', 'purple', 'blue', 'green', 'black', 'gray', 'pink', 'brown',\n",
    "                  'skyblue', 'darkorange', 'lightseagreen', 'cyan', 'magenta', 'lime', 'gold',\n",
    "                  'indigo', 'teal', 'salmon', 'peru', 'olive', 'orchid', 'steelblue','black']\n",
    "\n",
    "disaster_colors = {\n",
    "    \"Flood\": \"blue\",\n",
    "    \"Storm\": \"red\",\n",
    "    \"Earthquake\": \"green\",\n",
    "    \"Epidemic\": \"orange\",\n",
    "    \"Glacial lake outburst flood\": \"purple\",\n",
    "    \"Extreme temperature\" :\"magenta\",\n",
    "    \"Mass movement (wet)\":\"lime\",\n",
    "    \"Volcanic activity\":\"indigo\",\n",
    "    \"Wildfire\":\"steelblue\",\n",
    "    \"Drought\":\"peru\",\n",
    "    \"Impact\": \"teal\",\n",
    "    \"Infestation\":\"olive\",\n",
    "    \"Mass movement (dry)\":\"magenta\",\n",
    "}\n"
   ]
  },
  {
   "cell_type": "code",
   "execution_count": null,
   "metadata": {},
   "outputs": [],
   "source": [
    "###### Filter the two dataset to only consider the natural disasters ######\n",
    "\n",
    "\n",
    "# For EU dataset \n",
    "filter_natural = df[df['Disaster Group'] == 'Natural']\n",
    "\n",
    "grouped_natural_disaster = filter_natural.groupby('Disaster Group')\n",
    "\n",
    "# For EU dataset \n",
    "\n",
    "filter_natural_world = df_world[df_world['Disaster Group'] == 'Natural']\n",
    "\n",
    "grouped_natural_disaster_world = filter_natural_world.groupby('Disaster Group')"
   ]
  },
  {
   "cell_type": "code",
   "execution_count": null,
   "metadata": {},
   "outputs": [],
   "source": [
    "# Plot for the sum of all disasters each year in EU \n",
    "\n",
    "grouped_start_year = filter_natural.groupby('Start Year').size()\n",
    "\n",
    "p = figure(title=\"Number of Natural Disasters in EU in each year\", x_axis_label='Start Year', y_axis_label='Number of Natural Disasters in EU', width=800, height=400)\n",
    "\n",
    "p.line(grouped_start_year.index, grouped_start_year.values, line_width=2)\n",
    "\n",
    "p.xaxis.ticker = FixedTicker(ticks=grouped_start_year.index.tolist())\n",
    "p.xaxis.major_label_orientation = np.pi / 4\n",
    "\n",
    "hover = HoverTool()\n",
    "hover.tooltips = [(\"Year\", \"@x\"), (\"Occurrences\", \"@y\")]\n",
    "p.add_tools(hover)\n",
    "\n",
    "output_file(\"natural_disasters_all_year_plot_EU.html\")\n",
    "\n",
    "show(p)\n"
   ]
  },
  {
   "cell_type": "code",
   "execution_count": null,
   "metadata": {},
   "outputs": [],
   "source": [
    "# Plot occurences of all disaster type for EU and WW\n",
    "\n",
    "# Defining the method\n",
    "\n",
    "def plot_diaster_types(dataset, colors, string, title):\n",
    "    p = figure(x_range=dataset.index.astype(str).tolist(), height=400, width=700, title=title,\n",
    "            toolbar_location=None, tools=\"\")\n",
    "\n",
    "    disaster_types = dataset.columns.tolist()\n",
    "    bar_width = 1 / len(disaster_types)  \n",
    "    renderers = [] \n",
    "\n",
    "    for i, disaster_type in enumerate(disaster_types):\n",
    "        x_pos = [year + i * bar_width for year in range(len(dataset))]\n",
    "        source = ColumnDataSource(data=dict(x=x_pos, top=dataset[disaster_type], name=[disaster_type] * len(x_pos), year=dataset.index.astype(str).tolist()))\n",
    "\n",
    "        renderer = p.vbar(x='x', top='top', width=bar_width, color=colors[disaster_type], source=source)\n",
    "        renderers.append(renderer)  \n",
    "    p.xaxis.axis_label = 'Year'\n",
    "    p.yaxis.axis_label = 'Number of Disasters'\n",
    "    p.xaxis.major_label_orientation = np.pi / 4\n",
    "\n",
    "    hover = HoverTool(tooltips=[(\"Year\", \"@year\"), (\"Disaster Type\", \"@name\"), (\"Occurrence\", \"@top\")], renderers=renderers)\n",
    "    p.add_tools(hover)\n",
    "\n",
    "    legend_items = [(disaster_type, [renderer]) for disaster_type, renderer in zip(disaster_types, renderers)]\n",
    "    legend = Legend(items=legend_items, location=\"top_right\", click_policy='hide')\n",
    "    p.add_layout(legend, 'right')\n",
    "\n",
    "    output_file(string + \".html\")\n",
    "    show(p)\n",
    "\n",
    "\n",
    "# Plot  for EU\n",
    "grouped_year = filter_natural.groupby(['Start Year', 'Disaster Type']).size().unstack(fill_value=0)\n",
    "plot_diaster_types(grouped_year, disaster_colors, \"plot_disaster_EU_all_years\", \"Number of Natural Disasters by Type and Year in EU\")\n",
    "\n",
    "# Plot for WW \n",
    "# grouped_year_world = filter_natural_world.groupby(['Start Year', 'Disaster Type']).size().unstack(fill_value=0)\n",
    "# plot_diaster_types(grouped_year_world, disaster_colors, \"plot_disaster_worldwide_all_years\", \"Number of Natural Disasters by Type and Year WorldWide\")\n"
   ]
  },
  {
   "cell_type": "markdown",
   "metadata": {},
   "source": [
    "Giving the previous plots, we see the countries and their CO2 emission. In the next section, the countries producing the most and least amount of CO2 are being highligted. For EU we see that Germany and Italy are the countries with the highest CO2 emission, while Malta and Latvia are the countries with the lowest CO2 emission. For Worldwide er have Qatar and Kuwait as the two countries having the most CO2 emission, while Somalia and Congo being the counties with the lowest. \n",
    "\n",
    "There has been selected a joker that do not spike in the high or lower end but would have a CO2 emission level somewhere in the middle of all of the countries in EU and the Wordwide. For EU Sweden is the joker, and for the whole world China has been chosen. "
   ]
  },
  {
   "cell_type": "code",
   "execution_count": null,
   "metadata": {},
   "outputs": [],
   "source": [
    "# Plot for selected countries\n",
    "grouped_country = filter_natural.groupby(['Country', 'Start Year', 'Disaster Type']).size().unstack(fill_value=0)\n",
    "\n",
    "# Defining the method \n",
    "def disastertypes_country(dataset, countries, colors, name_of_file):\n",
    "    plots = []\n",
    "\n",
    "    num_countries = len(countries)\n",
    "    plots_per_row = 2\n",
    "    num_rows = (num_countries + plots_per_row - 1) // plots_per_row\n",
    "\n",
    "    disaster_names = []\n",
    "\n",
    "    for idx, country in enumerate(countries):\n",
    "        country_data = dataset.loc[country]\n",
    "        disaster_types = country_data.columns\n",
    "        \n",
    "        all_years = np.arange(country_data.index.min(), country_data.index.max() + 1)\n",
    "\n",
    "        non_zero_disasters = [disaster_type for disaster_type in disaster_types if country_data[disaster_type].sum() > 0]\n",
    "\n",
    "        p = figure(title=f'Number of Natural Disasters by Type and Year in {country}',\n",
    "                    x_axis_label='Year', y_axis_label='Number of Disasters',\n",
    "                    x_range=(min(all_years)-1, max(all_years)+1), width = 475, height = 250)\n",
    "\n",
    "        plotted_disaster_types = []\n",
    "\n",
    "        for i, disaster_type in enumerate(non_zero_disasters):\n",
    "            x = all_years\n",
    "            y = country_data[disaster_type].reindex(all_years, fill_value=0)\n",
    "            source = ColumnDataSource(data=dict(x=x, y=y, name=[disaster_type] * len(x)))\n",
    "            bars = p.vbar(x='x', top='y', width=0.8, color=colors[disaster_type], alpha=0.5, source=source)\n",
    "            plotted_disaster_types.append((disaster_type, [bars]))\n",
    "            disaster_names.append(disaster_type)  \n",
    "\n",
    "        p.xaxis.ticker = all_years\n",
    "        p.xaxis.major_label_orientation = np.pi / 4\n",
    "        p.yaxis.ticker = np.arange(0, 6, 1)\n",
    "        legend = Legend(items=plotted_disaster_types, location=\"top_left\", click_policy=\"hide\")\n",
    "        legend.spacing = 5\n",
    "        legend.label_text_font_size = \"6pt\"\n",
    "        p.add_layout(legend, 'right')\n",
    "\n",
    "        #tooltips = [(\"Year\", \"@x\"), (\"Disaster Type\", \"@name\"), (\"Occurrences\", \"@y\")]\n",
    "        # hover = HoverTool(tooltips=tooltips, mode=\"vline\")\n",
    "        # p.add_tools(hover)\n",
    "\n",
    "        plots.append(p)\n",
    "\n",
    "    grid = gridplot(plots, ncols=plots_per_row)\n",
    "\n",
    "    output_file(name_of_file + \".html\")\n",
    "    show(grid)\n",
    "\n",
    "    \n",
    "#PLOTS FOR EU\n",
    "\n",
    "#1. Highest CO2 emission: Germany\n",
    "countries_to_include_estonia = ['Germany']\n",
    "disastertypes_country(grouped_country, countries_to_include_estonia, disaster_colors, \"Germany_EU\")\n",
    "\n",
    "\n",
    "#2. Highest CO2 emission: Italy \n",
    "countries_to_include_sweden = ['Italy']\n",
    "disastertypes_country(grouped_country, countries_to_include_sweden, disaster_colors, \"Italy_EU\")\n",
    "\n",
    "\n",
    "# 1. Lowest CO2 emission: Malta\n",
    "countries_to_include_malta = ['Malta']\n",
    "disastertypes_country(grouped_country, countries_to_include_malta, disaster_colors, \"Malta_EU\")\n",
    "\n",
    "# 2. Lowest CO2 emission: Latvia\n",
    "countries_to_include_malta = ['Latvia']\n",
    "disastertypes_country(grouped_country, countries_to_include_malta, disaster_colors, \"Latvia_EU\")\n",
    "\n",
    "#Joker\n",
    "countries_to_include_italy = ['Sweden']\n",
    "disastertypes_country(grouped_country, countries_to_include_italy, disaster_colors, \"Sweden_EU\")\n",
    "\n",
    "\n",
    "# PLOTS FOR WW \n",
    "grouped_country_WW = filter_natural_world.groupby(['Country', 'Start Year', 'Disaster Type']).size().unstack(fill_value=0)\n",
    "\n",
    "# Qatar, Kuwait cannot be found with the highest CO2 is not in the dataset \n",
    "\n",
    "# 1.Lowest CO2 emission: Somalia\n",
    "countries_to_include_WW_Somalia = ['Somalia']\n",
    "disastertypes_country(grouped_country_WW, countries_to_include_WW_Somalia, disaster_colors, \"Somalia_WW\")\n",
    "\n",
    "#2.Lowest CO2 emission: Congo\n",
    "countries_to_include_WW_Congo = ['Congo']\n",
    "disastertypes_country(grouped_country_WW, countries_to_include_WW_Congo, disaster_colors, \"Congo_WW\")\n",
    "\n",
    "\n",
    "# Joker\n",
    "countries_to_include_WW_China = ['China']\n",
    "disastertypes_country(grouped_country_WW, countries_to_include_WW_China, disaster_colors, \"China_WW\")\n",
    "\n",
    "\n"
   ]
  }
 ],
 "metadata": {
  "kernelspec": {
   "display_name": "Python 3 (ipykernel)",
   "language": "python",
   "name": "python3"
  },
  "language_info": {
   "codemirror_mode": {
    "name": "ipython",
    "version": 3
   },
   "file_extension": ".py",
   "mimetype": "text/x-python",
   "name": "python",
   "nbconvert_exporter": "python",
   "pygments_lexer": "ipython3",
   "version": "3.11.2"
  }
 },
 "nbformat": 4,
 "nbformat_minor": 4
}
