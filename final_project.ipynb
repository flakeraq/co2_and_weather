{
 "cells": [
  {
   "cell_type": "markdown",
   "metadata": {},
   "source": [
    "# CO2 and Weather\n",
    "\n",
    "## Formalia:\n",
    "\n",
    "The analysis in this notebook, will explore the CO2 on a Worldwide and EU scale. Where a deeper look will be taken on the top 5 with respectively highest and lowest CO2 emissions. A comparison between EU and those countries will also be carried out. "
   ]
  },
  {
   "cell_type": "markdown",
   "metadata": {},
   "source": [
    "## Part 1: Development of CO2 emission in the world"
   ]
  },
  {
   "cell_type": "code",
   "execution_count": null,
   "metadata": {},
   "outputs": [],
   "source": [
    "# List of EU27 countries (excluding UK)\n",
    "EU = ['Austria','Belgium','Bulgaria','Croatia','Cyprus','Czechia','Denmark','Estonia','Finland','France','Germany','Greece','Hungary','Ireland','Italy','Latvia','Lithuania','Luxembourg','Malta','Netherlands','Poland','Portugal','Romania','Slovakia','Slovenia','Spain','Sweden'] "
   ]
  },
  {
   "cell_type": "markdown",
   "metadata": {},
   "source": [
    "#### Preparing the data to fit the format needed for the analysis\n"
   ]
  },
  {
   "cell_type": "code",
   "execution_count": null,
   "metadata": {},
   "outputs": [],
   "source": [
    "# Import libraries need for the analysis\n",
    "from math import ceil\n",
    "import math\n",
    "import pandas as pd\n",
    "import matplotlib.pyplot as plt\n",
    "import numpy as np\n",
    "import plotly.graph_objects as go\n",
    "import plotly.express as px\n",
    "import geojson\n",
    "#Only two digit after the decimal point\n",
    "pd.set_option('display.float_format', lambda x: '%.2f' % x)\n",
    "\n",
    "import warnings\n",
    "warnings.simplefilter(action='ignore', category=FutureWarning) # https://stackoverflow.com/questions/15777951/how-to-suppress-pandas-future-warning"
   ]
  },
  {
   "cell_type": "code",
   "execution_count": null,
   "metadata": {},
   "outputs": [],
   "source": [
    "# Cleaning the data and renaming the columns\n",
    "df= pd.read_csv('annual-co2-emissions-per-country.csv')\n",
    "#replace NaN with 0\n",
    "df = df.fillna(0)  \n",
    "#replace inf with 0\n",
    "df = df.replace([np.inf, -np.inf], 0)\n",
    "\n",
    "# if Slovak Republic then replace with Slovakia\n",
    "df.replace(to_replace='Slovak Republic', value='Slovakia', inplace=True)\n",
    "# Czech Republic to Czechia\n",
    "df.replace(to_replace='Czech Republic', value = 'Czechia', inplace=True)\n",
    "df = df.drop(columns=['Code'])\n",
    "df = df.rename(columns={'Entity': 'Country Name'})\n",
    "\n",
    "# How does it look\n",
    "df.head()"
   ]
  },
  {
   "cell_type": "code",
   "execution_count": null,
   "metadata": {},
   "outputs": [],
   "source": [
    "# Change the data to be in the format of a table\n",
    "df = df.pivot(index='Country Name', columns='Year', values='Annual CO2 emissions')\n",
    "df = df.reset_index()\n",
    "df = df.rename(columns={'Country Name': 'Country Name'})\n",
    "df = df.set_index('Country Name')\n",
    "df = df.fillna(0)\n",
    "# remove the word Year, so Country moved one up\n",
    "df.columns.name = None\n",
    "df = df.reset_index()"
   ]
  },
  {
   "cell_type": "code",
   "execution_count": null,
   "metadata": {},
   "outputs": [],
   "source": [
    "# Removing the years that are not needed - only looking at 1960 onwards\n",
    "col_list = []\n",
    "for year in range(1750, 1960):\n",
    "    col_list.append(int(year))\n",
    "\n",
    "# drop column thats in the col_list\n",
    "df.drop(columns=col_list, axis=1, inplace=True)\n",
    "df.head()"
   ]
  },
  {
   "cell_type": "code",
   "execution_count": null,
   "metadata": {},
   "outputs": [],
   "source": [
    "# Keep the original data safe and create a new dataframe for the EU countries\n",
    "df_EU = df.copy()\n",
    "df_EU = df_EU[df_EU['Country Name'].isin(EU)]"
   ]
  },
  {
   "cell_type": "code",
   "execution_count": null,
   "metadata": {},
   "outputs": [],
   "source": [
    "# Some basis statistics using stats for EU CO2 emission\n",
    "df_EU.describe()\n"
   ]
  },
  {
   "cell_type": "code",
   "execution_count": null,
   "metadata": {},
   "outputs": [],
   "source": [
    "df_EU_yearly = df.copy()\n",
    "df_EU_yearly = df_EU.melt(id_vars='Country Name', var_name='Year', value_name='CO2 Emission')\n",
    "df_EU_yearly.head()\n"
   ]
  },
  {
   "cell_type": "markdown",
   "metadata": {},
   "source": [
    "#### Visualization of the data"
   ]
  },
  {
   "cell_type": "code",
   "execution_count": null,
   "metadata": {},
   "outputs": [],
   "source": [
    "# Creates a bar chart for each country in the EU using supblot to show each country in a different plot\n",
    "col = 3\n",
    "rows = math.ceil(len(EU) / col)\n",
    "\n",
    "\n",
    "fig, ax = plt.subplots(rows, col, sharex=True, figsize=(24, 15))\n",
    "\n",
    "for index, country in enumerate(EU):\n",
    "    plt.subplot(rows, col, index+1)\n",
    "    plt.title(country)#, x = 0.1, y=0.7, pad=20) \n",
    "    plt.xlabel('Year')\n",
    "    plt.ylabel('CO2 Emission')\n",
    "    y_min, y_max = 0, df_EU_yearly[df_EU_yearly['Country Name'] == country]['CO2 Emission'].max()   \n",
    "    #print(f'{country} --> y_min: {y_min}, y_max: {y_max}')\n",
    "    plt.ylim([y_min, y_max])\n",
    "    y_interval = int((y_max - y_min) / 5) if y_max > 5 else 5\n",
    "    plt.yticks(range(0, int(y_max), y_interval))\n",
    "    plt.xticks(rotation=90)\n",
    "    # Bar chart for each country with the CO2 emission for each year\n",
    "    plt.bar(df_EU_yearly[df_EU_yearly['Country Name'] == country]['Year'], df_EU_yearly[df_EU_yearly['Country Name'] == country]['CO2 Emission'])\n",
    "   \n",
    "    plt.tight_layout()\n",
    "    plt.title('CO2 Emission for ' + country)\n",
    "plt.tight_layout()\n",
    "\n",
    "# save to html\n",
    "plt.savefig('CO2_Emission_EU.png')\n",
    "fig.suptitle('CO2 Emission for each country in the EU distribuated through the years 1960-2018', fontsize=16, y=1.05)\n",
    "plt.show()"
   ]
  },
  {
   "cell_type": "markdown",
   "metadata": {},
   "source": [
    "The plot above shows the CO2 development for each country in the EU, this plot illustrate which countries has the higest and lowest CO2 emission. \n",
    "The y-axis represents the total CO2 emission, while the x-axis represents the years starting from 1960 til 2022. \n",
    "It can be seen that throughout the years, Germany have the highest emissions, while a country like Malta has the lowest emissions."
   ]
  },
  {
   "cell_type": "code",
   "execution_count": null,
   "metadata": {},
   "outputs": [],
   "source": [
    "# Total emission for world for each year\n",
    "df_world = df.copy()\n",
    "# should only have the Country World\n",
    "df_world = df_world[df_world['Country Name'] == 'World']\n",
    "# drop the Country World\n",
    "df_world = df_world.sum(axis=0)\n",
    "df_world = df_world.reset_index()\n",
    "df_world.columns = ['Year', 'CO2 Emission']\n",
    "#remove max_year and year_max\n",
    "df_world = df_world.drop(df_world[df_world['Year'] == 'max_year'].index)\n",
    "df_world = df_world.drop(df_world[df_world['Year'] == 'year_max'].index)\n",
    "#plot the total CO2 emission for the world\n",
    "fig = px.line(df_world, x='Year', y='CO2 Emission',title='CO2 Emission per year for the world from 1960-2022')\n",
    "fig.show()\n",
    "fig.write_html(\"CO2_Emission_world_1960_2022.html\")"
   ]
  },
  {
   "cell_type": "markdown",
   "metadata": {},
   "source": [
    "This plot shows the total CO2 emission for the world from 1960-2022. \n",
    "The y-axis represents total CO2 emission, while the x-axis represents the years.\n",
    "\n",
    "The plot shows that the CO2 emission has been increasing over the years.\n",
    "Worth noting is 1973-1975, 1979-1980, 1991-1992, 2009 and 2020. Seems like something happen in those years, since the curve breaks in those places."
   ]
  },
  {
   "cell_type": "markdown",
   "metadata": {},
   "source": [
    "The choice of a line plot is motivated by wanting to show the worlds effort to reduce CO2 emissions over time. By visually tracking this journey, the line plot will show insights into which direction the world is moving towards, to limit CO2 emissions. It also shows the different events that might have happened. "
   ]
  },
  {
   "cell_type": "code",
   "execution_count": null,
   "metadata": {},
   "outputs": [],
   "source": [
    "# Timeserie with world co2 emission\n",
    "df_world = df.copy()\n",
    "\n",
    "list_world = ['Afghanistan', 'Albania', 'Algeria', 'Andorra', 'Angola', 'Antigua and Barbuda', 'Argentina', 'Armenia', 'Australia', 'Austria', 'Azerbaijan', 'Bahamas', 'Bahrain', 'Bangladesh', 'Barbados', 'Belarus', 'Belgium', 'Belize', 'Benin', 'Bhutan', 'Bolivia', 'Bosnia and Herzegovina', 'Botswana', 'Brazil', 'Brunei', 'Bulgaria', 'Burkina Faso', 'Burundi', 'Cambodia', 'Cameroon', 'Canada', 'Cape Verde', 'Central African Republic', 'Chad', 'Chile', 'China', 'Colombia', 'Comoros', 'Congo', 'Costa Rica', 'Croatia', 'Cuba', 'Cyprus', 'Czechia', 'Denmark', 'Djibouti', 'Dominica', 'Dominican Republic', 'Ecuador', 'Egypt', 'El Salvador', 'Equatorial Guinea', 'Eritrea', 'Estonia', 'Eswatini', 'Ethiopia', 'Fiji', 'Finland', 'France', 'Gabon', 'Gambia', 'Georgia', 'Germany', 'Ghana', 'Greece', 'Grenada', 'Guatemala', 'Guinea', 'Guinea-Bissau', 'Guyana', 'Haiti', 'Honduras', 'Hungary', 'Iceland', 'India', 'Indonesia', 'Iran', 'Iraq', \n",
    "              'Ireland', 'Israel', 'Italy', 'Jamaica', 'Japan', 'Jordan', 'Kazakhstan', 'Kenya', 'Kiribati', 'Kuwait', 'Kyrgyzstan', 'Laos', 'Latvia', 'Lebanon', 'Lesotho', 'Liberia', 'Libya', 'Liechtenstein', 'Lithuania', 'Luxembourg', 'Madagascar', 'Malawi', 'Malaysia', 'Maldives', 'Mali', 'Malta', 'Marshall Islands', 'Mauritania', 'Mauritius', 'Mexico', 'Micronesia', 'Moldova', 'Monaco', 'Mongolia', 'Montenegro', 'Morocco', 'Mozambique', 'Myanmar', 'Namibia', 'Nauru', 'Nepal', 'Netherlands', 'New Zealand', 'Nicaragua', 'Niger', 'Nigeria', 'North Korea', 'North Macedonia', 'Norway', 'Oman', 'Pakistan',\n",
    "              'Palau', 'Panama', 'Papua New Guinea', 'Paraguay', 'Peru', 'Philippines', 'Poland', 'Portugal', 'Qatar', 'Romania', 'Russia', 'Rwanda', 'Saint Kitts and Nevis', 'Saint Lucia', 'Saint Vincent and the Grenadines', 'Samoa', 'San Marino', 'Sao Tome and Principe', 'Saudi Arabia', 'Senegal', 'Serbia', 'Seychelles', 'Sierra Leone', 'Singapore', 'Slovakia', 'Slovenia', 'Solomon Islands', 'Somalia', 'South Africa', 'South Korea', 'South Sudan', 'Spain', 'Sri Lanka', 'Sudan', 'Suriname', 'Sweden', 'Switzerland', 'Syria', 'Tajikistan', 'Tanzania', 'Thailand', 'Timor-Leste', 'Togo', 'Tonga', 'Trinidad and Tobago', 'Tunisia', 'Turkey', 'Turkmenistan', 'Tuvalu', 'Uganda', 'Ukraine', 'United Arab Emirates', 'United Kingdom', 'United States', 'Uruguay', 'Uzbekistan', 'Vanuatu', 'Vatican City', 'Venezuela', 'Vietnam', 'Yemen', 'Zambia', 'Zimbabwe']\n",
    "\n",
    "df_world = df_world[df_world['Country Name'].isin(list_world)]\n",
    "df_world = df_world[~df_world['Country Name'].isin(EU)]\n",
    "df_world_yearly = df_world.melt(id_vars='Country Name', var_name='Year', value_name='CO2 Emission')\n",
    "#plot the world co2 emission\n",
    "fig = px.line(df_world_yearly, x='Year', y='CO2 Emission', color='Country Name', title='CO2 Emission per year for each country in the world except EU countries')\n",
    "fig.show()\n",
    "# save interactive figure as html\n",
    "fig.write_html(\"CO2_Emission_World.html\")"
   ]
  },
  {
   "cell_type": "markdown",
   "metadata": {},
   "source": [
    "This plot shows every country in the world except for the EU countries. The y-axis represents the total amount of CO2, while the x-axis represents the years. \n",
    "\n",
    "It can clearly be seen the top 5 emitters in the world, but the top 5 lowest is harder.\n",
    "To see the top 5 lowest emitters, it needs to be zoomed all the way in.\n",
    "\n",
    "Top 5 highest = ['China', 'United States', 'India', 'Russia', 'Japan']\n",
    "\n",
    "Top 5 lowest =  ['Tuvalu', 'Nauru', 'Kiribati', 'Sao Tome and Principe', 'Liechtenstein']\n",
    "\n",
    "By using the line-plot for each country, we get an indication of the each country's progress towards limiting CO2 emissions. By adding all the countries in the plot, we can compare and see which country that has the highest CO2 emission compared to the other countries."
   ]
  },
  {
   "cell_type": "code",
   "execution_count": null,
   "metadata": {},
   "outputs": [],
   "source": [
    "# Top 10 list with highest CO2 emission in 2018\n",
    "top_5 = ['China', 'United States', 'India', 'Russia', 'Japan']\n",
    "highest_country = df.copy()\n",
    "highest_country =  highest_country[highest_country['Country Name'].isin(top_5)]\n",
    "highest_country =highest_country.reset_index()\n",
    "highest_country = highest_country.melt(id_vars='Country Name', var_name='Year', value_name='CO2 Emission')\n",
    "\n",
    "\n",
    "df_EU_total = df_EU.copy()\n",
    "df_EU_total = df_EU_total.drop(columns=['Country Name'])\n",
    "df_EU_total = df_EU_total.sum(axis=0)\n",
    "df_EU_total = df_EU_total.reset_index()\n",
    "df_EU_total.columns = ['Year', 'CO2 Emission']\n",
    "df_EU_total['Country Name'] = 'EU'\n",
    "\n",
    "# Combine the data for the EU and the top 5 countries\n",
    "df_combine = pd.concat([df_EU_total, highest_country])\n",
    "\n",
    "#remove column with NaN\n",
    "df_combine = df_combine.drop(df_combine[df_combine['Year'] == 'max_year'].index)\n",
    "df_combine = df_combine.drop(df_combine[df_combine['Year'] == 'year_max'].index)\n",
    "df_combine = df_combine.drop(df_combine[df_combine['Year'] == 'year_min'].index)\n",
    "\n",
    "#plot the total CO2 emission for the world\n",
    "fig = px.line(df_combine, x='Year', y='CO2 Emission', color='Country Name', title='CO2 Emission per year for the current top 5 emitters compared to EU from 1960-2018')\n",
    "fig.show()\n",
    "fig.write_html(\"CO2_top_5_vs-EU_emission_world_1960_2018.html\")"
   ]
  },
  {
   "cell_type": "markdown",
   "metadata": {},
   "source": [
    "This is a line plot of the current 5 emitters compared to EU from 1960-2018.\n",
    "The y-axis represents the total amount of CO2 emission, while the x-axis represents the years from 1960-2018. \n",
    "This plot give a good visualization on how EU compares to the top 5 emitters in the world.\n",
    "It can be seen that while China and India is increasing, the others countries is either stable or lowering it's CO2."
   ]
  },
  {
   "cell_type": "code",
   "execution_count": null,
   "metadata": {},
   "outputs": [],
   "source": [
    "# Top 10 list with highest CO2 emission in 2018\n",
    "lowest_top_5 = ['Tuvalu', 'Nauru', 'Kiribati', 'Sao Tome and Principe', 'Liechtenstein']\n",
    "lowest_country = df.copy()\n",
    "lowest_country =  lowest_country[lowest_country['Country Name'].isin(lowest_top_5)]\n",
    "lowest_country =lowest_country.reset_index()\n",
    "lowest_country = lowest_country.melt(id_vars='Country Name', var_name='Year', value_name='CO2 Emission')\n",
    "\n",
    "# Combine the data for the EU and the top 5 countries\n",
    "df_combine = pd.concat([df_EU_total, lowest_country])\n",
    "\n",
    "#remove column with NaN\n",
    "df_combine = df_combine.drop(df_combine[df_combine['Year'] == 'max_year'].index)\n",
    "df_combine = df_combine.drop(df_combine[df_combine['Year'] == 'year_max'].index)\n",
    "df_combine = df_combine.drop(df_combine[df_combine['Year'] == 'year_min'].index)\n",
    "\n",
    "#plot the total CO2 emission for the world\n",
    "fig = px.line(df_combine, x='Year', y='CO2 Emission', color='Country Name', title='CO2 Emission per year for the current lowest top 5 emitters compared to EU from 1960-2018')\n",
    "fig.show()\n",
    "fig.write_html(\"CO2_lowest_top_5_vs-EU_emission_world_1960_2018.html\")"
   ]
  },
  {
   "cell_type": "markdown",
   "metadata": {},
   "source": [
    "The plot is a line plot that showcases the CO2 emission per year for the current lowest top 5 emtters compared to EU from 1960-2018. The y-axis represents the total CO2 emission, while the x-axis represents the years from 1960-2018. \n",
    "This plot clearly showcase, how much more EU emits compared to those in the lowest end. When EU is shown, the others isn't shown - EU have to be removed before the development of CO2 emission can be seen for those countries with the lowest CO\" emissions."
   ]
  },
  {
   "cell_type": "code",
   "execution_count": null,
   "metadata": {},
   "outputs": [],
   "source": [
    "# First first row is the year and first coloumn is the country name, make a plot where the x-axis is the year and the y-axis is the CO2 emission and make it so theres a subplot for each country\n",
    "fig = px.line(df_EU_yearly, x='Year', y='CO2 Emission', color='Country Name', title='CO2 Emission per year for each country in the EU')\n",
    "fig.show()\n",
    "# save interactive figure as html\n",
    "fig.write_html(\"CO2_Emission_EU.html\")\n"
   ]
  },
  {
   "cell_type": "markdown",
   "metadata": {},
   "source": [
    "This plot shows that Germany is clearly the highest emitter of CO2 throughout the years in EU. Again, need to zoom in to see the country with the lowest emissions."
   ]
  },
  {
   "cell_type": "code",
   "execution_count": null,
   "metadata": {},
   "outputs": [],
   "source": [
    "# plotly bar chart with country name, max_year, year_max, min_year and year_min\n",
    "fig = go.Figure(data=[ go.Bar(name='Min CO2 Emission', x=df_EU['Country Name'], y=df_EU['min_year'], text=df_EU['year_min'], textposition='auto'),\n",
    "                      go.Bar(name='Max CO2 Emission', x=df_EU['Country Name'], y=df_EU['max_year'], text=df_EU['year_max'], textposition='auto')])\n",
    "fig.update_layout(title='Max and Min CO2 Emission and Year of Max and Min CO2 Emission for EU countries', barmode='group')\n",
    "fig.write_html(\"Bar_chart_Max_and_Min_CO2_Emission_and_Year_of_Max_and_Min_CO2_Emission_for_EU_countries.html\")\n",
    "fig.show()"
   ]
  },
  {
   "cell_type": "markdown",
   "metadata": {},
   "source": [
    "A bar chart that shows when a country has it lowest and highest CO2 emission. Again Germany tops, while Matla is in the lowest end of the spectra."
   ]
  },
  {
   "cell_type": "code",
   "execution_count": null,
   "metadata": {},
   "outputs": [],
   "source": [
    "# max value in df_EU_yearly\n",
    "max_value = df_EU_yearly['CO2 Emission'].max()\n",
    "# min value in df_EU_yearly\n",
    "min_value = df_EU_yearly['CO2 Emission'].min()"
   ]
  },
  {
   "cell_type": "code",
   "execution_count": null,
   "metadata": {},
   "outputs": [],
   "source": [
    "with  open('europe.geojson') as response: #### Using the geojson of lat and lon of San Fransisco\n",
    "    counties = geojson.load(response) \n",
    "\n",
    "fig = px.choropleth(df_EU_yearly, \n",
    "                           geojson=counties, \n",
    "                           locations='Country Name', \n",
    "                           featureidkey='properties.NAME',\n",
    "                           color='CO2 Emission',\n",
    "                           color_continuous_scale= \"turbo\", ## ????\n",
    "                           hover_name = 'Country Name',\n",
    "                           hover_data=  ['Year', 'CO2 Emission'],\n",
    "                           animation_frame='Year',\n",
    "                           #locationmode='geojson-id',\n",
    "                           range_color=(min_value, max_value),\n",
    "                           #mapbox_style=\"carto-positron\",\n",
    "                           scope='europe',\n",
    "                           center = {\"lat\":52.52000660, \"lon\": 13.404954007},\n",
    "                           #opacity=1,\n",
    "                           #labels={'CO2 Emission':'CO2 Emission'}\n",
    "                           width=1000, height=800,\n",
    "                           title = 'CO2 for EU from 1960-2018'\n",
    "                          )\n",
    "\n",
    "fig.update_layout(margin={\"r\":0,\"t\":0,\"l\":0,\"b\":0})\n",
    "fig.show()\n",
    "#save as html\n",
    "fig.write_html(\"CO2_Emission_EU_Map_Online.html\", include_plotlyjs='cdn')\n",
    "\"\"\"'tealrose', 'tempo', 'temps', 'thermal', 'tropic', 'turbid',\n",
    "             'turbo', 'twilight', 'viridis', 'ylgn', 'ylgnbu', 'ylorbr',\n",
    "             'ylorrd'].\"\"\""
   ]
  },
  {
   "cell_type": "markdown",
   "metadata": {},
   "source": [
    "A great visualization of the development of CO2 for EU."
   ]
  },
  {
   "cell_type": "code",
   "execution_count": null,
   "metadata": {},
   "outputs": [],
   "source": [
    "# Cleaning the data and renaming the columns for the dataset used to CO2 per capita\n",
    "df_per_capita= pd.read_csv('CO2_Emissions_1960-2018.xls')\n",
    "\n",
    "#replace NaN with 0\n",
    "df_per_capita = df_per_capita.fillna(0)  \n",
    "#replace inf with 0\n",
    "df_per_capita = df_per_capita.replace([np.inf, -np.inf], 0)\n",
    "\n",
    "# if Slovak Republic then replace with Slovakia\n",
    "df_per_capita.replace(to_replace='Slovak Republic', value='Slovakia', inplace=True)\n",
    "# Czech Republic to Czechia\n",
    "df_per_capita.replace(to_replace='Czech Republic', value = 'Czechia', inplace=True)\n",
    "\n",
    "df_per_capita = df_per_capita.rename(columns={'Entity': 'Country Name'})\n",
    "\n",
    "# How does it look\n",
    "df_per_capita.head()"
   ]
  },
  {
   "cell_type": "code",
   "execution_count": null,
   "metadata": {},
   "outputs": [],
   "source": [
    "top_2 = ['Germany', 'Malta']\n",
    "co2_captia = df.copy()\n",
    "co2_captia =  co2_captia[co2_captia['Country Name'].isin(top_2)]\n",
    "\n",
    "# Time series with CO2 per capita for Germany and Malta\n",
    "co2_captia = co2_captia.melt(id_vars='Country Name', var_name='Year', value_name='CO2 Emission')\n",
    "fig = px.line(co2_captia, x='Year', y='CO2 Emission', color='Country Name', title='CO2 Emission per Capita for Germany and Malta (1960-2022)')\n",
    "#use log scale\n",
    "fig.update_yaxes(type=\"log\")\n",
    "fig.show()\n",
    "# Save the file\n",
    "fig.write_html(\"CO2_Emission_per_capita_Germany_Malta.html\")\n"
   ]
  },
  {
   "cell_type": "markdown",
   "metadata": {},
   "source": [
    "A time serie plot showing that when measured with CO2 per captia, Germany is still in the high end, while Malta is still the lowest."
   ]
  },
  {
   "cell_type": "markdown",
   "metadata": {},
   "source": [
    "## Part 2: \n",
    "## Exploring CO2 Emission in Europe: A look into the history of Highs and Lows\n",
    "The following is focusing on visiualisations that shows the highs and lows of the co2 emission history in Europe.\n",
    "Line plots, and visualization of geodata using plotly."
   ]
  },
  {
   "cell_type": "code",
   "execution_count": null,
   "metadata": {},
   "outputs": [],
   "source": [
    "# Import libraries\n",
    "import pandas as pd\n",
    "import matplotlib.pyplot as plt\n",
    "from scipy.signal import find_peaks, find_peaks, find_peaks, find_peaks\n",
    "\n",
    "# Only two digits after the decimal point\n",
    "pd.set_option('display.float_format', lambda x: '%.2f' % x)\n",
    "\n",
    "# Filter data for the years between 1960 and 2022\n",
    "df_EU_yearly = df_EU_yearly[(df_EU_yearly['Year'] >= 1960) & (df_EU_yearly['Year'] <= 2022)]\n",
    "\n",
    "# Total CO2 emissions for each year\n",
    "total_CO2_each_year = df_EU_yearly.groupby('Year')['CO2 Emission'].sum()\n",
    "\n",
    "# Find peaks in the data\n",
    "peaks, _ = find_peaks(total_CO2_each_year.values)\n",
    "valleys, _ = find_peaks(-total_CO2_each_year.values)\n",
    "\n",
    "# Plot the total CO2 emission for each year\n",
    "plt.figure(figsize=(15, 6))\n",
    "plt.plot(total_CO2_each_year.index, total_CO2_each_year.values, linestyle='-')\n",
    "\n",
    "# Plot peaks and valleys\n",
    "plt.plot(total_CO2_each_year.index[peaks], total_CO2_each_year.values[peaks], marker='o', linestyle='', color='red', markersize=8)\n",
    "plt.plot(total_CO2_each_year.index[valleys], total_CO2_each_year.values[valleys], marker='o', linestyle='', color='green', markersize=8)\n",
    "\n",
    "\n",
    "plt.xlabel('Year')\n",
    "plt.ylabel('Total CO2 Emission')\n",
    "plt.title('Total CO2 Emission for each year (EU Countries)')\n",
    "plt.xticks(total_CO2_each_year.index, rotation=90) \n",
    "plt.xlim(1960, 2022)\n",
    "plt.grid()\n",
    "plt.savefig('Total_CO2_Emission_for_each_year_EU.png')\n",
    "plt.show()\n"
   ]
  },
  {
   "cell_type": "markdown",
   "metadata": {},
   "source": [
    "This is a line plot that showcases the total amount of CO2 emission in europe each year. \n",
    "Y-axis shows the total amount of CO2, while the x-axis shows the years from 1960-2022.\n",
    "The red dots showcases the peaks, while the green dots showcases the valleys. \n",
    "We do see a high increase of CO2 emission in year 1979, while the lowest CO2 emission after 1979 was in year 2020. In 1979 the oil crisis happened, while in 2020 the pandemic COVID 19 happened. "
   ]
  },
  {
   "cell_type": "markdown",
   "metadata": {},
   "source": [
    "The reasoning behind choosing to show the data through a line plot is that it effectively displays trends and patterns over a continuous range of time. Furthermore the line plot allows for easy comparison between the different years and makes it easier to identify overall trends, such as increasing or decreasing emissions over time. "
   ]
  },
  {
   "cell_type": "code",
   "execution_count": null,
   "metadata": {},
   "outputs": [],
   "source": [
    "# Filter data for the year 1979\n",
    "df_1979 = df_EU_yearly[df_EU_yearly['Year'] == 1979]\n",
    "\n",
    "# max value in df_1979\n",
    "max_value = df_1979['CO2 Emission'].max()\n",
    "\n",
    "# min value in df_1979\n",
    "min_value = df_1979['CO2 Emission'].min()\n",
    "\n",
    "with  open('europe.geojson') as response:\n",
    "    counties = geojson.load(response) \n",
    "\n",
    "fig = px.choropleth(df_1979, \n",
    "                           geojson=counties, \n",
    "                           locations='Country Name', \n",
    "                           featureidkey='properties.NAME',\n",
    "                           color='CO2 Emission',\n",
    "                           color_continuous_scale= \"turbo\", \n",
    "                           hover_name = 'Country Name',\n",
    "                           hover_data=  ['Year', 'CO2 Emission'],\n",
    "                           animation_frame='Year',\n",
    "                           range_color=(min_value, max_value),\n",
    "                           scope='europe',\n",
    "                           center = {\"lat\":52.52000660, \"lon\": 13.404954007},\n",
    "                           width=700, height=500,\n",
    "                           title = 'CO2 for EU from 1960-2018'\n",
    "                          )\n",
    "fig.update_layout(\n",
    "    margin={\"r\":0, \"t\":0, \"l\":0, \"b\":0})\n",
    "fig.show()\n",
    "\n",
    "#save as html\n",
    "fig.write_html(\"CO2_Emission_EU_Map_Online_1979.html\", include_plotlyjs='cdn')\n",
    "\"\"\"'tealrose', 'tempo', 'temps', 'thermal', 'tropic', 'turbid',\n",
    "             'turbo', 'twilight', 'viridis', 'ylgn', 'ylgnbu', 'ylorbr',\n",
    "             'ylorrd'].\"\"\""
   ]
  },
  {
   "cell_type": "markdown",
   "metadata": {},
   "source": [
    "The colors on the map showcases the CO2 emission in EU in 1979. The reasoning behind showcasing CO2 emission for that year is because it is the year that EU experienced the most CO2 emission as seen in the Line plot. The closer the country is to the color red, the higher CO2 emission the country had that year, while the closer the country's color is to blue the less CO2 emission the country had that year. When zooming in, we do see that Germany is the only red country on the map, which means that Germany is the country in 1979 with the highest CO2 emission. Furthermore we see multiple countries that are dark blue on the map, where Malta is the country with the least CO2 emission that year. To make sure that these observations are correct, we just cross checked by doing the following. "
   ]
  },
  {
   "cell_type": "markdown",
   "metadata": {},
   "source": [
    "The reasoning behind choosing to show the data through a map plot, is to compare different regions. Map plots allows color-coding countries based on their CO2 emissions, which makes it easier to compare between the countries and see which countries had the highest or lowest CO2 emissions that specific year. Furthermore the ability to hover over specific countries, allows insights into country-level information."
   ]
  },
  {
   "cell_type": "code",
   "execution_count": null,
   "metadata": {},
   "outputs": [],
   "source": [
    "#Highest CO2 emission in 1979\n",
    "highest_emission_row = df_1979.loc[df_1979['CO2 Emission'].idxmax()]\n",
    "\n",
    "# Extract the country name and its corresponding CO2 emission value\n",
    "highest_emission_country = highest_emission_row['Country Name']\n",
    "highest_emission_value = highest_emission_row['CO2 Emission']\n",
    "\n",
    "# Lowest CO2 emission in 1979\n",
    "lowest_emission_row = df_1979.loc[df_1979['CO2 Emission'].idxmin()]\n",
    "\n",
    "# Extract the country name and its corresponding CO2 emission value\n",
    "lowest_emission_country = lowest_emission_row['Country Name']\n",
    "lowest_emission_value = lowest_emission_row['CO2 Emission']\n",
    "\n",
    "print(\"Country with the highest CO2 emission in 1979:\", highest_emission_country)\n",
    "print(\"CO2 emission value:\", highest_emission_value)\n",
    "\n",
    "print(\"\\nCountry with the lowest CO2 emission in 1979:\", lowest_emission_country)\n",
    "print(\"CO2 emission value:\", lowest_emission_value)\n"
   ]
  },
  {
   "cell_type": "markdown",
   "metadata": {},
   "source": [
    "As seen in the print out statements, Germany is indeed the country that had the highest CO2 emission in year 1979, while Malta was the country with the lowest CO2 emission. Another interesting perspective was to look into 2020 and see which country had the highest CO2 emission and the country with the lowest CO2 emission."
   ]
  },
  {
   "cell_type": "markdown",
   "metadata": {},
   "source": [
    "The reasoning behind cross-checking is to verify the accuracy of the observations made from the map plot. While the map plot provides a visual representation of the data, it is not always easy to see which country has the highest or the lowest CO2 emissions. If the color-coding of multiple countries are the same or if a country is very small, it can be hard to classify which country has the highest or lowest CO2 emissions. By using code to extract highest and lowest country, we can ensure that the observations are based on accurate data rather than subjective interpretation."
   ]
  },
  {
   "cell_type": "code",
   "execution_count": null,
   "metadata": {},
   "outputs": [],
   "source": [
    "# Filter data for the year 2020\n",
    "df_2020 = df_EU_yearly[df_EU_yearly['Year'] == 2020]\n",
    "\n",
    "# max value in df_2020\n",
    "max_value = df_2020['CO2 Emission'].max()\n",
    "\n",
    "# min value in df_2020\n",
    "min_value = df_2020['CO2 Emission'].min()\n",
    "\n",
    "with  open('europe.geojson') as response:\n",
    "    counties = geojson.load(response) \n",
    "\n",
    "fig = px.choropleth(df_2020, \n",
    "                           geojson=counties, \n",
    "                           locations='Country Name', \n",
    "                           featureidkey='properties.NAME',\n",
    "                           color='CO2 Emission',\n",
    "                           color_continuous_scale= \"turbo\", \n",
    "                           hover_name = 'Country Name',\n",
    "                           hover_data=  ['Year', 'CO2 Emission'],\n",
    "                           animation_frame='Year',\n",
    "                           range_color=(min_value, max_value),\n",
    "                           scope='europe',\n",
    "                           center = {\"lat\":52.52000660, \"lon\": 13.404954007},\n",
    "                           width=700, height=500,\n",
    "                           title = 'CO2 for EU from 1960-2018'\n",
    "                          )\n",
    "fig.update_layout(\n",
    "    margin={\"r\":0, \"t\":0, \"l\":0, \"b\":0})\n",
    "fig.show()\n",
    "#save as html\n",
    "fig.write_html(\"CO2_Emission_EU_Map_Online_2020.html\", include_plotlyjs='cdn')\n",
    "\"\"\"'tealrose', 'tempo', 'temps', 'thermal', 'tropic', 'turbid',\n",
    "             'turbo', 'twilight', 'viridis', 'ylgn', 'ylgnbu', 'ylorbr',\n",
    "             'ylorrd'].\"\"\""
   ]
  },
  {
   "cell_type": "markdown",
   "metadata": {},
   "source": [
    "The colors on the map showcases the CO2 emission in EU in 2020. This was the year where EU experienced the least CO2 emission after 1979 as seen in the Line plot. \n",
    "The closer the country is to the color red, the higher CO2 emission the country had that year, while the closer the country's color is to blue the less CO2 emission the country had that year. When zooming in, we do see that Germany is once again the only country that is red on the map, which means that Germany is the country in 2020 with the highest CO2 emission. Furthermore we see multiple countries that are dark blue on the map, where Malta is the country with the least CO2 emission that year. To make sure that the observations are correct, we once again cross checked by doing the following. "
   ]
  },
  {
   "cell_type": "markdown",
   "metadata": {},
   "source": [
    "The reasoning behind showing the map plot in 2020, is the same reason as showing the map plot of EU in 1979. It makes it easier to compare between the countries and see which countries had the highest and lowest CO2 emissions in that specific year based on color-code. "
   ]
  },
  {
   "cell_type": "code",
   "execution_count": null,
   "metadata": {},
   "outputs": [],
   "source": [
    "#Highest CO2 emission in 2020\n",
    "highest_emission_row = df_2020.loc[df_2020['CO2 Emission'].idxmax()]\n",
    "\n",
    "# Extract the country name and its corresponding CO2 emission value\n",
    "highest_emission_country = highest_emission_row['Country Name']\n",
    "highest_emission_value = highest_emission_row['CO2 Emission']\n",
    "\n",
    "# Lowest CO2 emission in 2020\n",
    "lowest_emission_row = df_2020.loc[df_2020['CO2 Emission'].idxmin()]\n",
    "\n",
    "# Extract the country name and its corresponding CO2 emission value\n",
    "lowest_emission_country = lowest_emission_row['Country Name']\n",
    "lowest_emission_value = lowest_emission_row['CO2 Emission']\n",
    "\n",
    "print(\"Country with the highest CO2 emission in 2020:\", highest_emission_country)\n",
    "print(\"CO2 emission value:\", highest_emission_value)\n",
    "\n",
    "print(\"\\nCountry with the lowest CO2 emission in 2020:\", lowest_emission_country)\n",
    "print(\"CO2 emission value:\", lowest_emission_value)\n"
   ]
  },
  {
   "cell_type": "markdown",
   "metadata": {},
   "source": [
    "As mentioned before, Germany and Malta keeps their spot as Germany is the country with highest CO2 emission and Malta is the country with lowest CO2 emission."
   ]
  },
  {
   "cell_type": "markdown",
   "metadata": {},
   "source": [
    "The reasoning behind cross-checking, is the same as before. To ensure that the observations are based on accurate data rather than subjective interpretation."
   ]
  },
  {
   "cell_type": "code",
   "execution_count": null,
   "metadata": {},
   "outputs": [],
   "source": [
    "# Filter data for Germany\n",
    "df_Germany = df_EU_yearly[df_EU_yearly['Country Name'] == 'Germany']\n",
    "\n",
    "# Total CO2 emissions for each year in Germany\n",
    "total_CO2_each_year_Germany = df_Germany.groupby('Year')['CO2 Emission'].sum()\n",
    "\n",
    "# Plot the total CO2 emission for each year in Germany\n",
    "plt.figure(figsize=(15, 6))\n",
    "plt.plot(total_CO2_each_year_Germany.index, total_CO2_each_year_Germany.values, linestyle='-')\n",
    "\n",
    "plt.xlabel('Year')\n",
    "plt.ylabel('Total CO2 Emission')\n",
    "plt.title('Total CO2 Emission for each year (Germany)')\n",
    "plt.xticks(total_CO2_each_year_Germany.index, rotation=90) \n",
    "plt.xlim(1960, 2022)\n",
    "plt.grid()\n",
    "plt.savefig('Total_CO2_Emission_for_each_year_Germany.png')\n",
    "plt.show()\n"
   ]
  },
  {
   "cell_type": "markdown",
   "metadata": {},
   "source": [
    "This is a line plot represents the total CO2 emission for each year in Germany from 1960-2022. The y-axis showcases the total CO2 emission of Germany, while the x-axis represents the years. \n",
    "As seen in the plots, Germany has the highest CO2 emission in 1979, while the lowest CO2 emission in 2020. We also see a overall decrease in CO2 emission after 1979."
   ]
  },
  {
   "cell_type": "markdown",
   "metadata": {},
   "source": [
    "The reasoning behind showing the data through a line plot, is the same reason as showing EU CO2 emission from 1960-1979. It overall allows us to see Germany's CO2 emissions journey and allow us to see which events affected the CO2 emissions the most. It also shows us if Germany is moving towards the right the direction, when it comes to minimizing CO2 emissions."
   ]
  },
  {
   "cell_type": "markdown",
   "metadata": {},
   "source": [
    "## Part 3: Extreme weather "
   ]
  },
  {
   "cell_type": "markdown",
   "metadata": {},
   "source": [
    "In extreme weather we want to investigate the correlation between natural disasters and CO2 emission. In order to do that we use two datasets, one for the Europe and World wide. \n",
    "There has been chosen interactive, bokeh,  plots for all the plots in order for the reader so play around with the data of the plot and get more details. The bokeh plots will provide the reader with support to investigate the values in the plot and as seen in some of the plots, the user can select specific natural disasters to see."
   ]
  },
  {
   "cell_type": "code",
   "execution_count": 2,
   "metadata": {},
   "outputs": [],
   "source": [
    "#Import libraries\n",
    "import pandas as pd\n",
    "import numpy as np\n",
    "import matplotlib.pyplot as plt\n",
    "from bokeh.plotting import figure, show, output_file\n",
    "from bokeh.models import Legend, HoverTool, ColumnDataSource\n",
    "from bokeh.layouts import gridplot\n",
    "from bokeh.models import FixedTicker\n",
    "\n",
    "#Importing and defining global variables to use all around\n",
    "# For EU dataset \n",
    "excel_file_EU = 'EU_disasters.xlsx'\n",
    "\n",
    "df = pd.read_excel(excel_file_EU)\n",
    "\n",
    "df.drop(columns=['Historic', 'Classification Key','External IDs', 'Event Name','OFDA/BHA Response','Appeal','Declaration',\"AID Contribution ('000 US$)\", 'Magnitude','Magnitude Scale', 'Latitude','Longitude','River Basin','Start Day','Total Deaths','No. Injured','No. Affected','No. Homeless','Total Affected',\"Reconstruction Costs ('000 US$)\", \n",
    "                 \"Reconstruction Costs, Adjusted ('000 US$)\",\"Insured Damage ('000 US$)\", \"Insured Damage, Adjusted ('000 US$)\", \"Total Damage ('000 US$)\",\"Total Damage, Adjusted ('000 US$)\",'CPI', \"Admin Units\",\"Entry Date\", 'Last Update','Origin','Associated Types'], inplace=True)\n",
    "\n",
    "# Convert start year to datetime format\n",
    "df['Start Year'] = pd.to_datetime(df['Start Year'], format='%Y').dt.year\n",
    "\n",
    "# For WorldWide dataset\n",
    "excel_file_World = 'WW.xlsx'\n",
    "\n",
    "df_world = pd.read_excel(excel_file_World)\n",
    "df_world.drop(columns=['Historic', 'Classification Key','External IDs', 'Event Name','OFDA/BHA Response','Appeal','Declaration',\"AID Contribution ('000 US$)\", 'Magnitude','Magnitude Scale', 'Latitude','Longitude','River Basin','Start Day','Total Deaths','No. Injured','No. Affected','No. Homeless','Total Affected',\"Reconstruction Costs ('000 US$)\", \n",
    "                 \"Reconstruction Costs, Adjusted ('000 US$)\",\"Insured Damage ('000 US$)\", \"Insured Damage, Adjusted ('000 US$)\", \"Total Damage ('000 US$)\",\"Total Damage, Adjusted ('000 US$)\",'CPI', \"Admin Units\",\"Entry Date\", 'Last Update','Origin','Associated Types'], inplace=True)\n",
    "\n",
    "\n",
    "df_world['Start Year'] = pd.to_datetime(df['Start Year'], format='%Y').dt.year\n",
    "\n",
    "\n",
    "\n",
    "# global values\n",
    "generic_colors = ['red', 'yellow', 'purple', 'blue', 'green', 'black', 'gray', 'pink', 'brown',\n",
    "                  'skyblue', 'darkorange', 'lightseagreen', 'cyan', 'magenta', 'lime', 'gold',\n",
    "                  'indigo', 'teal', 'salmon', 'peru', 'olive', 'orchid', 'steelblue','black']\n",
    "\n",
    "disaster_colors = {\n",
    "    \"Flood\": \"blue\",\n",
    "    \"Storm\": \"red\",\n",
    "    \"Earthquake\": \"green\",\n",
    "    \"Epidemic\": \"orange\",\n",
    "    \"Glacial lake outburst flood\": \"purple\",\n",
    "    \"Extreme temperature\" :\"magenta\",\n",
    "    \"Mass movement (wet)\":\"lime\",\n",
    "    \"Volcanic activity\":\"indigo\",\n",
    "    \"Wildfire\":\"steelblue\",\n",
    "    \"Drought\":\"peru\",\n",
    "    \"Infestation\":\"olive\",\n",
    "    \"Mass movement (dry)\":\"magenta\",\n",
    "}\n"
   ]
  },
  {
   "cell_type": "code",
   "execution_count": 4,
   "metadata": {},
   "outputs": [
    {
     "name": "stdout",
     "output_type": "stream",
     "text": [
      "1824\n"
     ]
    },
    {
     "data": {
      "text/html": [
       "<div>\n",
       "<style scoped>\n",
       "    .dataframe tbody tr th:only-of-type {\n",
       "        vertical-align: middle;\n",
       "    }\n",
       "\n",
       "    .dataframe tbody tr th {\n",
       "        vertical-align: top;\n",
       "    }\n",
       "\n",
       "    .dataframe thead th {\n",
       "        text-align: right;\n",
       "    }\n",
       "</style>\n",
       "<table border=\"1\" class=\"dataframe\">\n",
       "  <thead>\n",
       "    <tr style=\"text-align: right;\">\n",
       "      <th></th>\n",
       "      <th>DisNo.</th>\n",
       "      <th>Disaster Group</th>\n",
       "      <th>Disaster Subgroup</th>\n",
       "      <th>Disaster Type</th>\n",
       "      <th>Disaster Subtype</th>\n",
       "      <th>ISO</th>\n",
       "      <th>Country</th>\n",
       "      <th>Subregion</th>\n",
       "      <th>Region</th>\n",
       "      <th>Location</th>\n",
       "      <th>Start Year</th>\n",
       "      <th>Start Month</th>\n",
       "      <th>End Year</th>\n",
       "      <th>End Month</th>\n",
       "      <th>End Day</th>\n",
       "    </tr>\n",
       "  </thead>\n",
       "  <tbody>\n",
       "    <tr>\n",
       "      <th>0</th>\n",
       "      <td>2000-0024-NOR</td>\n",
       "      <td>Technological</td>\n",
       "      <td>Transport</td>\n",
       "      <td>Rail</td>\n",
       "      <td>Rail</td>\n",
       "      <td>NOR</td>\n",
       "      <td>Norway</td>\n",
       "      <td>Northern Europe</td>\n",
       "      <td>Europe</td>\n",
       "      <td>Aasta (Hedmark)</td>\n",
       "      <td>2000</td>\n",
       "      <td>1.0</td>\n",
       "      <td>2000</td>\n",
       "      <td>1.0</td>\n",
       "      <td>4.0</td>\n",
       "    </tr>\n",
       "    <tr>\n",
       "      <th>1</th>\n",
       "      <td>2000-0028-ROU</td>\n",
       "      <td>Natural</td>\n",
       "      <td>Meteorological</td>\n",
       "      <td>Storm</td>\n",
       "      <td>Blizzard/Winter storm</td>\n",
       "      <td>ROU</td>\n",
       "      <td>Romania</td>\n",
       "      <td>Eastern Europe</td>\n",
       "      <td>Europe</td>\n",
       "      <td>Bihor, Satu Mare, Cluj, Salaj, Mures provinces</td>\n",
       "      <td>2000</td>\n",
       "      <td>1.0</td>\n",
       "      <td>2000</td>\n",
       "      <td>1.0</td>\n",
       "      <td>NaN</td>\n",
       "    </tr>\n",
       "    <tr>\n",
       "      <th>2</th>\n",
       "      <td>2000-0029-BGR</td>\n",
       "      <td>Natural</td>\n",
       "      <td>Meteorological</td>\n",
       "      <td>Extreme temperature</td>\n",
       "      <td>Cold wave</td>\n",
       "      <td>BGR</td>\n",
       "      <td>Bulgaria</td>\n",
       "      <td>Eastern Europe</td>\n",
       "      <td>Europe</td>\n",
       "      <td>Sofia province, Sofia-city province</td>\n",
       "      <td>2000</td>\n",
       "      <td>1.0</td>\n",
       "      <td>2000</td>\n",
       "      <td>1.0</td>\n",
       "      <td>NaN</td>\n",
       "    </tr>\n",
       "    <tr>\n",
       "      <th>3</th>\n",
       "      <td>2000-0032-CHE</td>\n",
       "      <td>Technological</td>\n",
       "      <td>Transport</td>\n",
       "      <td>Air</td>\n",
       "      <td>Air</td>\n",
       "      <td>CHE</td>\n",
       "      <td>Switzerland</td>\n",
       "      <td>Western Europe</td>\n",
       "      <td>Europe</td>\n",
       "      <td>Niederhasli (Zurich)</td>\n",
       "      <td>2000</td>\n",
       "      <td>1.0</td>\n",
       "      <td>2000</td>\n",
       "      <td>1.0</td>\n",
       "      <td>10.0</td>\n",
       "    </tr>\n",
       "    <tr>\n",
       "      <th>4</th>\n",
       "      <td>2000-0039-ESP</td>\n",
       "      <td>Technological</td>\n",
       "      <td>Miscellaneous accident</td>\n",
       "      <td>Collapse (Miscellaneous)</td>\n",
       "      <td>Collapse (Miscellaneous)</td>\n",
       "      <td>ESP</td>\n",
       "      <td>Spain</td>\n",
       "      <td>Southern Europe</td>\n",
       "      <td>Europe</td>\n",
       "      <td>Dos Hermanas (Séville)</td>\n",
       "      <td>2000</td>\n",
       "      <td>2.0</td>\n",
       "      <td>2000</td>\n",
       "      <td>2.0</td>\n",
       "      <td>3.0</td>\n",
       "    </tr>\n",
       "  </tbody>\n",
       "</table>\n",
       "</div>"
      ],
      "text/plain": [
       "          DisNo. Disaster Group       Disaster Subgroup  \\\n",
       "0  2000-0024-NOR  Technological               Transport   \n",
       "1  2000-0028-ROU        Natural          Meteorological   \n",
       "2  2000-0029-BGR        Natural          Meteorological   \n",
       "3  2000-0032-CHE  Technological               Transport   \n",
       "4  2000-0039-ESP  Technological  Miscellaneous accident   \n",
       "\n",
       "              Disaster Type          Disaster Subtype  ISO      Country  \\\n",
       "0                      Rail                      Rail  NOR       Norway   \n",
       "1                     Storm     Blizzard/Winter storm  ROU      Romania   \n",
       "2       Extreme temperature                 Cold wave  BGR     Bulgaria   \n",
       "3                       Air                       Air  CHE  Switzerland   \n",
       "4  Collapse (Miscellaneous)  Collapse (Miscellaneous)  ESP        Spain   \n",
       "\n",
       "         Subregion  Region                                        Location  \\\n",
       "0  Northern Europe  Europe                                 Aasta (Hedmark)   \n",
       "1   Eastern Europe  Europe  Bihor, Satu Mare, Cluj, Salaj, Mures provinces   \n",
       "2   Eastern Europe  Europe             Sofia province, Sofia-city province   \n",
       "3   Western Europe  Europe                            Niederhasli (Zurich)   \n",
       "4  Southern Europe  Europe                          Dos Hermanas (Séville)   \n",
       "\n",
       "   Start Year  Start Month  End Year  End Month  End Day  \n",
       "0        2000          1.0      2000        1.0      4.0  \n",
       "1        2000          1.0      2000        1.0      NaN  \n",
       "2        2000          1.0      2000        1.0      NaN  \n",
       "3        2000          1.0      2000        1.0     10.0  \n",
       "4        2000          2.0      2000        2.0      3.0  "
      ]
     },
     "execution_count": 4,
     "metadata": {},
     "output_type": "execute_result"
    }
   ],
   "source": [
    "# Print the lenght of the dataset of Europe\n",
    "print(len(df))\n",
    "df.head()"
   ]
  },
  {
   "cell_type": "code",
   "execution_count": 5,
   "metadata": {},
   "outputs": [
    {
     "name": "stdout",
     "output_type": "stream",
     "text": [
      "15718\n"
     ]
    },
    {
     "data": {
      "text/html": [
       "<div>\n",
       "<style scoped>\n",
       "    .dataframe tbody tr th:only-of-type {\n",
       "        vertical-align: middle;\n",
       "    }\n",
       "\n",
       "    .dataframe tbody tr th {\n",
       "        vertical-align: top;\n",
       "    }\n",
       "\n",
       "    .dataframe thead th {\n",
       "        text-align: right;\n",
       "    }\n",
       "</style>\n",
       "<table border=\"1\" class=\"dataframe\">\n",
       "  <thead>\n",
       "    <tr style=\"text-align: right;\">\n",
       "      <th></th>\n",
       "      <th>DisNo.</th>\n",
       "      <th>Disaster Group</th>\n",
       "      <th>Disaster Subgroup</th>\n",
       "      <th>Disaster Type</th>\n",
       "      <th>Disaster Subtype</th>\n",
       "      <th>ISO</th>\n",
       "      <th>Country</th>\n",
       "      <th>Subregion</th>\n",
       "      <th>Region</th>\n",
       "      <th>Location</th>\n",
       "      <th>Start Year</th>\n",
       "      <th>Start Month</th>\n",
       "      <th>End Year</th>\n",
       "      <th>End Month</th>\n",
       "      <th>End Day</th>\n",
       "    </tr>\n",
       "  </thead>\n",
       "  <tbody>\n",
       "    <tr>\n",
       "      <th>0</th>\n",
       "      <td>1999-9388-DJI</td>\n",
       "      <td>Natural</td>\n",
       "      <td>Climatological</td>\n",
       "      <td>Drought</td>\n",
       "      <td>Drought</td>\n",
       "      <td>DJI</td>\n",
       "      <td>Djibouti</td>\n",
       "      <td>Sub-Saharan Africa</td>\n",
       "      <td>Africa</td>\n",
       "      <td>Ali Sabieh, Dikhil, Djibouti, Obock, Tadjourah...</td>\n",
       "      <td>2000.0</td>\n",
       "      <td>6.0</td>\n",
       "      <td>2001</td>\n",
       "      <td>NaN</td>\n",
       "      <td>NaN</td>\n",
       "    </tr>\n",
       "    <tr>\n",
       "      <th>1</th>\n",
       "      <td>1999-9388-SDN</td>\n",
       "      <td>Natural</td>\n",
       "      <td>Climatological</td>\n",
       "      <td>Drought</td>\n",
       "      <td>Drought</td>\n",
       "      <td>SDN</td>\n",
       "      <td>Sudan</td>\n",
       "      <td>Northern Africa</td>\n",
       "      <td>Africa</td>\n",
       "      <td>Northern Darfur, Northern Kordofan, Red Sea pr...</td>\n",
       "      <td>2000.0</td>\n",
       "      <td>1.0</td>\n",
       "      <td>2001</td>\n",
       "      <td>NaN</td>\n",
       "      <td>NaN</td>\n",
       "    </tr>\n",
       "    <tr>\n",
       "      <th>2</th>\n",
       "      <td>1999-9388-SOM</td>\n",
       "      <td>Natural</td>\n",
       "      <td>Climatological</td>\n",
       "      <td>Drought</td>\n",
       "      <td>Drought</td>\n",
       "      <td>SOM</td>\n",
       "      <td>Somalia</td>\n",
       "      <td>Sub-Saharan Africa</td>\n",
       "      <td>Africa</td>\n",
       "      <td>Ceel Barde, Rab Dhuure, Tayeeglow, Xudur distr...</td>\n",
       "      <td>2000.0</td>\n",
       "      <td>1.0</td>\n",
       "      <td>2001</td>\n",
       "      <td>NaN</td>\n",
       "      <td>NaN</td>\n",
       "    </tr>\n",
       "    <tr>\n",
       "      <th>3</th>\n",
       "      <td>2000-0001-AGO</td>\n",
       "      <td>Technological</td>\n",
       "      <td>Transport</td>\n",
       "      <td>Road</td>\n",
       "      <td>Road</td>\n",
       "      <td>AGO</td>\n",
       "      <td>Angola</td>\n",
       "      <td>Sub-Saharan Africa</td>\n",
       "      <td>Africa</td>\n",
       "      <td>Calulo</td>\n",
       "      <td>2000.0</td>\n",
       "      <td>1.0</td>\n",
       "      <td>2000</td>\n",
       "      <td>1.0</td>\n",
       "      <td>26.0</td>\n",
       "    </tr>\n",
       "    <tr>\n",
       "      <th>4</th>\n",
       "      <td>2000-0002-AGO</td>\n",
       "      <td>Natural</td>\n",
       "      <td>Hydrological</td>\n",
       "      <td>Flood</td>\n",
       "      <td>Riverine flood</td>\n",
       "      <td>AGO</td>\n",
       "      <td>Angola</td>\n",
       "      <td>Sub-Saharan Africa</td>\n",
       "      <td>Africa</td>\n",
       "      <td>Dombre Grande village (Baia Farta district, Be...</td>\n",
       "      <td>2000.0</td>\n",
       "      <td>1.0</td>\n",
       "      <td>2000</td>\n",
       "      <td>1.0</td>\n",
       "      <td>15.0</td>\n",
       "    </tr>\n",
       "  </tbody>\n",
       "</table>\n",
       "</div>"
      ],
      "text/plain": [
       "          DisNo. Disaster Group Disaster Subgroup Disaster Type  \\\n",
       "0  1999-9388-DJI        Natural    Climatological       Drought   \n",
       "1  1999-9388-SDN        Natural    Climatological       Drought   \n",
       "2  1999-9388-SOM        Natural    Climatological       Drought   \n",
       "3  2000-0001-AGO  Technological         Transport          Road   \n",
       "4  2000-0002-AGO        Natural      Hydrological         Flood   \n",
       "\n",
       "  Disaster Subtype  ISO   Country           Subregion  Region  \\\n",
       "0          Drought  DJI  Djibouti  Sub-Saharan Africa  Africa   \n",
       "1          Drought  SDN     Sudan     Northern Africa  Africa   \n",
       "2          Drought  SOM   Somalia  Sub-Saharan Africa  Africa   \n",
       "3             Road  AGO    Angola  Sub-Saharan Africa  Africa   \n",
       "4   Riverine flood  AGO    Angola  Sub-Saharan Africa  Africa   \n",
       "\n",
       "                                            Location  Start Year  Start Month  \\\n",
       "0  Ali Sabieh, Dikhil, Djibouti, Obock, Tadjourah...      2000.0          6.0   \n",
       "1  Northern Darfur, Northern Kordofan, Red Sea pr...      2000.0          1.0   \n",
       "2  Ceel Barde, Rab Dhuure, Tayeeglow, Xudur distr...      2000.0          1.0   \n",
       "3                                             Calulo      2000.0          1.0   \n",
       "4  Dombre Grande village (Baia Farta district, Be...      2000.0          1.0   \n",
       "\n",
       "   End Year  End Month  End Day  \n",
       "0      2001        NaN      NaN  \n",
       "1      2001        NaN      NaN  \n",
       "2      2001        NaN      NaN  \n",
       "3      2000        1.0     26.0  \n",
       "4      2000        1.0     15.0  "
      ]
     },
     "execution_count": 5,
     "metadata": {},
     "output_type": "execute_result"
    }
   ],
   "source": [
    "# Print the lenght of the dataset of World wide\n",
    "print(len(df_world))\n",
    "df_world.head()"
   ]
  },
  {
   "cell_type": "code",
   "execution_count": 11,
   "metadata": {},
   "outputs": [
    {
     "name": "stdout",
     "output_type": "stream",
     "text": [
      "1108\n",
      "9993\n"
     ]
    }
   ],
   "source": [
    "###### Filter the two dataset to only consider the natural disasters \n",
    "\n",
    "# Filter the EU dataset \n",
    "filter_natural = df[df['Disaster Group'] == 'Natural']\n",
    "filter_natural = filter_natural[~filter_natural['Country'].isin(['Russian Federation', 'United Kingdom of Great Britain and Northern Ireland'])]\n",
    "print(len(filter_natural))\n",
    "grouped_natural_disaster = filter_natural.groupby('Disaster Group')\n",
    "\n",
    "# Filter the WW dataset \n",
    "filter_natural_world = df_world[df_world['Disaster Group'] == 'Natural']\n",
    "print(len(filter_natural_world))\n"
   ]
  },
  {
   "cell_type": "markdown",
   "metadata": {},
   "source": [
    "Let us look into the sum of all disaster each year in EU to see if we can see a correlation between previous blog plot of CO2 emission in EU. We only consider 'Start year' as we are interested in what year they started versus how long they lasted. The reason for this is to compare it to CO2 emission, we are looking anually and want to see of the anually CO2 emission affect the anually natural disasters. <br> The next plot is an a interactive line plot making it easy for reader to get an overview of the natural disasters. A hoverover tool is enabled making it easy for the reader to investigate each year's number of natural disasters."
   ]
  },
  {
   "cell_type": "code",
   "execution_count": 9,
   "metadata": {},
   "outputs": [
    {
     "name": "stdout",
     "output_type": "stream",
     "text": [
      "25\n"
     ]
    }
   ],
   "source": [
    "# Plot for the sum of all disasters each year in EU \n",
    "\n",
    "grouped_start_year = filter_natural.groupby('Start Year').size()\n",
    "\n",
    "p = figure(title=\"Number of Natural Disasters in EU in each year\", x_axis_label='Start Year', y_axis_label='Number of Natural Disasters in EU', width=800, height=400)\n",
    "\n",
    "p.line(grouped_start_year.index, grouped_start_year.values, line_width=2)\n",
    "\n",
    "p.xaxis.ticker = FixedTicker(ticks=grouped_start_year.index.tolist())\n",
    "p.xaxis.major_label_orientation = np.pi / 4\n",
    "\n",
    "hover = HoverTool()\n",
    "hover.tooltips = [(\"Year\", \"@x\"), (\"Occurrences\", \"@y\")]\n",
    "p.add_tools(hover)\n",
    "\n",
    "output_file(\"natural_disasters_all_year_plot_EU.html\")\n",
    "\n",
    "show(p)\n"
   ]
  },
  {
   "cell_type": "markdown",
   "metadata": {},
   "source": [
    "Let us go deeper into detail and include all the disaster types in each year as well. The next plot is a interactive bar chart instead of alternatives, as it gives a clear visualization of the extend each go to. Each bar has a hoover over tool enabled as none of the bars overlap and it makes it easy for the reader to interpret the information."
   ]
  },
  {
   "cell_type": "code",
   "execution_count": 5,
   "metadata": {},
   "outputs": [],
   "source": [
    "# Plot occurences of all disaster type for EU and WW\n",
    "\n",
    "# Defining the method\n",
    "\n",
    "def plot_diaster_types(dataset, colors, string, title):\n",
    "    p = figure(x_range=dataset.index.astype(str).tolist(), height=400, width=700, title=title,\n",
    "            toolbar_location=None, tools=\"\")\n",
    "\n",
    "    disaster_types = dataset.columns.tolist()\n",
    "    bar_width = 1 / len(disaster_types)  \n",
    "    renderers = [] \n",
    "\n",
    "    for i, disaster_type in enumerate(disaster_types):\n",
    "        x_pos = [year + i * bar_width for year in range(len(dataset))]\n",
    "        source = ColumnDataSource(data=dict(x=x_pos, top=dataset[disaster_type], name=[disaster_type] * len(x_pos), year=dataset.index.astype(str).tolist()))\n",
    "        renderer = p.vbar(x='x', top='top', width=bar_width, color=colors[disaster_type], source=source)\n",
    "        renderers.append(renderer)  \n",
    "    p.xaxis.axis_label = 'Year'\n",
    "    p.yaxis.axis_label = 'Number of Disasters'\n",
    "    p.xaxis.major_label_orientation = np.pi / 4\n",
    "\n",
    "    hover = HoverTool(tooltips=[(\"Year\", \"@year\"), (\"Disaster Type\", \"@name\"), (\"Occurrence\", \"@top\")], renderers=renderers)\n",
    "    p.add_tools(hover)\n",
    "\n",
    "    legend_items = [(disaster_type, [renderer]) for disaster_type, renderer in zip(disaster_types, renderers)]\n",
    "    legend = Legend(items=legend_items, location=\"top_right\", click_policy='hide')\n",
    "    p.add_layout(legend, 'right')\n",
    "\n",
    "    output_file(string + \".html\")\n",
    "    show(p)\n",
    "\n",
    "\n",
    "# Plot  for EU\n",
    "grouped_year = filter_natural.groupby(['Start Year', 'Disaster Type']).size().unstack(fill_value=0)\n",
    "plot_diaster_types(grouped_year, disaster_colors, \"plot_disaster_EU_all_years\", \"Number of Natural Disasters by Type and Year in EU\")\n"
   ]
  },
  {
   "cell_type": "markdown",
   "metadata": {},
   "source": [
    "In the next section, we will look into the countries producing the most and least amount of CO2 in Europe. World wide we will look into the countries with the highest emission. These next plots are interactive bar plots where in the Legend the disaster types can be hidden with a click. No hoover over tool is enabled, as we see that the natural disasters can be stacked on each meaning there can be several occurences in the same year with the same number making it hard to interpret the hoover over tool as they too will be stacked/overlap each other. <br>\n",
    "<br>For EU we see that Germany and Italy are the countries with the highest CO2 emission, while Malta and Latvia are the countries with lowest. <br>\n",
    "Worldwide China and USA are the two countries having the highest CO2 emission. \n"
   ]
  },
  {
   "cell_type": "code",
   "execution_count": 10,
   "metadata": {},
   "outputs": [
    {
     "name": "stdout",
     "output_type": "stream",
     "text": [
      "Index(['Afghanistan', 'Albania', 'Algeria', 'Angola', 'Argentina', 'Armenia',\n",
      "       'Australia', 'Austria', 'Azerbaijan', 'Bahamas',\n",
      "       ...\n",
      "       'United Republic of Tanzania', 'United States of America', 'Uruguay',\n",
      "       'Uzbekistan', 'Vanuatu', 'Venezuela (Bolivarian Republic of)',\n",
      "       'Viet Nam', 'Yemen', 'Zambia', 'Zimbabwe'],\n",
      "      dtype='object', name='Country', length=154)\n"
     ]
    }
   ],
   "source": [
    "###### Plot for selected countries\n",
    "grouped_country = filter_natural.groupby(['Country', 'Start Year', 'Disaster Type']).size().unstack(fill_value=0)\n",
    "grouped_country_WW = filter_natural_world.groupby(['Country', 'Start Year', 'Disaster Type']).size().unstack(fill_value=0)\n",
    "\n",
    "\n",
    "def disastertypes_country(dataset, countries, colors, name_of_file):\n",
    "    plots = []\n",
    "\n",
    "    num_countries = len(countries)\n",
    "    plots_per_row = 2\n",
    "    num_rows = (num_countries + plots_per_row - 1) // plots_per_row\n",
    "\n",
    "    disaster_names = []\n",
    "\n",
    "    for idx, country in enumerate(countries):\n",
    "        country_data = dataset.loc[country]\n",
    "        disaster_types = country_data.columns\n",
    "        \n",
    "        all_years = np.arange(country_data.index.min(), country_data.index.max() + 1)\n",
    "\n",
    "        non_zero_disasters = [disaster_type for disaster_type in disaster_types if country_data[disaster_type].sum() > 0]\n",
    "\n",
    "        p = figure(title=f'Number of Natural Disasters by Type and Year in {country}',\n",
    "                    x_axis_label='Year', y_axis_label='Number of Disasters',\n",
    "                    x_range=(min(all_years)-1, max(all_years)+1), width=800, height=400)\n",
    "\n",
    "        plotted_disaster_types = []\n",
    "\n",
    "        for i, disaster_type in enumerate(non_zero_disasters):\n",
    "            x = all_years\n",
    "            y = country_data[disaster_type].reindex(all_years, fill_value=0)\n",
    "            source = ColumnDataSource(data=dict(x=x, y=y, name=[disaster_type] * len(x)))\n",
    "            bars = p.vbar(x='x', top='y', width=0.8, color=colors[disaster_type], alpha=0.5, source=source)\n",
    "            plotted_disaster_types.append((disaster_type, [bars]))\n",
    "            disaster_names.append(disaster_type)  \n",
    "\n",
    "        p.xaxis.ticker = all_years\n",
    "        p.xaxis.major_label_orientation = np.pi / 4\n",
    "        p.yaxis.ticker = np.arange(0, 6, 1)\n",
    "        legend = Legend(items=plotted_disaster_types, location=\"top_left\", click_policy=\"hide\")\n",
    "        legend.spacing = 5\n",
    "        p.add_layout(legend, 'right')\n",
    "        plots.append(p)\n",
    "\n",
    "    grid = gridplot(plots, ncols=plots_per_row)\n",
    "\n",
    "    output_file(name_of_file + \".html\")\n",
    "    show(grid)\n",
    "\n",
    "\n",
    "\n",
    "##################### PLOTS FOR EU ####################\n",
    "\n",
    "#1. Highest Germany\n",
    "countries_to_include_estonia = ['Germany']\n",
    "disastertypes_country(grouped_country, countries_to_include_estonia, disaster_colors, \"Germany_EU\")\n",
    "\n",
    "\n",
    "#2. Highest Italy \n",
    "countries_to_include_sweden = ['Italy']\n",
    "disastertypes_country(grouped_country, countries_to_include_sweden, disaster_colors, \"Italy_EU\")\n",
    "\n",
    "\n",
    "# 1. lowest Malta\n",
    "countries_to_include_malta = ['Malta']\n",
    "disastertypes_country(grouped_country, countries_to_include_malta, disaster_colors, \"Malta_EU\")\n",
    "\n",
    "# 2. lowest Latvia\n",
    "countries_to_include_malta = ['Latvia']\n",
    "disastertypes_country(grouped_country, countries_to_include_malta, disaster_colors, \"Latvia_EU\")\n",
    "\n",
    "\n",
    "##################### PLOTS FOR WW ####################\n",
    "\n",
    "# 1. Highest WW\n",
    "countries_to_include_WW_China = ['China']\n",
    "disastertypes_country(grouped_country_WW, countries_to_include_WW_China, disaster_colors, \"China_WW\")\n",
    "\n",
    "\n",
    "# 2. Highest WW\n",
    "countries_to_include_WW_China = ['United States of America']\n",
    "disastertypes_country(grouped_country_WW, countries_to_include_WW_China, disaster_colors, \"USA_WW\")\n"
   ]
  }
 ],
 "metadata": {
  "kernelspec": {
   "display_name": "Python 3 (ipykernel)",
   "language": "python",
   "name": "python3"
  },
  "language_info": {
   "codemirror_mode": {
    "name": "ipython",
    "version": 3
   },
   "file_extension": ".py",
   "mimetype": "text/x-python",
   "name": "python",
   "nbconvert_exporter": "python",
   "pygments_lexer": "ipython3",
   "version": "3.11.9"
  }
 },
 "nbformat": 4,
 "nbformat_minor": 4
}
