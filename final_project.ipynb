{
 "cells": [
  {
   "cell_type": "markdown",
   "metadata": {},
   "source": [
    "# CO_2 and Weather\n",
    "\n",
    "## Formalia:\n",
    "\n",
    "What are we trying to figure out"
   ]
  },
  {
   "cell_type": "markdown",
   "metadata": {},
   "source": [
    "## A1 Part 1: Visualizing patterns in the data\n",
    "\n",
    "In this sub-assignment, we recreate some of the plots from Week 2. We look only at the focus-crimes."
   ]
  },
  {
   "cell_type": "code",
   "execution_count": null,
   "metadata": {},
   "outputs": [],
   "source": [
    "EU = ['Austria','Belgium','Bulgaria','Croatia','Cyprus','Czechia','Denmark','Estonia','Finland','France','Germany','Greece','Hungary','Ireland','Italy','Latvia','Lithuania','Luxembourg','Malta','Netherlands','Poland','Portugal','Romania','Slovakia','Slovenia','Spain','Sweden'] "
   ]
  },
  {
   "cell_type": "markdown",
   "metadata": {},
   "source": [
    "For each set of plots below, describe the plots (as you would in the figure text in a report or paper), and pick a few aspects that stand out to you and comment on those (we provided a couple of ideas during class but it's OK to add more).\n",
    "\n",
    "* First create the week-day plots, the months, the 24-hour cycle, and the 168 hours of the week as barcharts (Week 2, Part 2).\n",
    "* Next choose a crime type that you like and create a calendar plot (Week 2, Part 4). Don't forget to comment on patterns you observe.\n",
    "* Finally, choose a different crime type and create a polar plot of its 24hour cycle (Week 2, Part 4). Again, don't forget to comment as you would in a figure text.\n",
    "* Write a short reflection (max 400 words, shorter is OK) on how you've used LLMs to solve these assignments (or if you didn't use LLMs, explain why)."
   ]
  },
  {
   "cell_type": "markdown",
   "metadata": {},
   "source": [
    "## Answer for A1 Part 1\n"
   ]
  },
  {
   "cell_type": "code",
   "execution_count": null,
   "metadata": {},
   "outputs": [],
   "source": [
    "# Import libraries\n",
    "from math import ceil\n",
    "import math\n",
    "import pandas as pd\n",
    "import matplotlib.pyplot as plt\n",
    "import numpy as np\n",
    "import plotly.graph_objects as go\n",
    "import plotly.express as px\n",
    "import geojson\n",
    "import json\n",
    "#Only two digit after the decimal point\n",
    "pd.set_option('display.float_format', lambda x: '%.2f' % x)\n",
    "\n",
    "# Importting libraries for data manipulation and visualization\n",
    "import matplotlib.pyplot as plt\n",
    "import calendar \n",
    "import calplot\n",
    "\n",
    "from urllib.request import urlopen\n",
    "\n",
    "\n",
    "\n",
    "import warnings\n",
    "warnings.simplefilter(action='ignore', category=FutureWarning) # https://stackoverflow.com/questions/15777951/how-to-suppress-pandas-future-warning"
   ]
  },
  {
   "cell_type": "code",
   "execution_count": null,
   "metadata": {},
   "outputs": [],
   "source": [
    "# read the data and create two dataframes, one for the EU and one for the rest of the world and also one for each land and year with their CO2 emission\n",
    "df = pd.read_csv('CO2_Emissions_1960-2018.xls')\n",
    "#replace NaN with 0\n",
    "df = df.fillna(0)  \n",
    "#replace inf with 0\n",
    "df = df.replace([np.inf, -np.inf], 0)\n",
    "\n",
    "# if Slovak Republic then replace with Slovakia\n",
    "df.replace(to_replace='Slovak Republic', value='Slovakia', inplace=True)\n",
    "# Czech Republic to Czechia\n",
    "df.replace(to_replace='Czech Republic', value = 'Czechia', inplace=True)\n",
    "\n",
    "df.head()"
   ]
  },
  {
   "cell_type": "code",
   "execution_count": null,
   "metadata": {},
   "outputs": [],
   "source": [
    "df_EU = df.copy()\n",
    "df_EU = df_EU[df_EU['Country Name'].isin(EU)]\n"
   ]
  },
  {
   "cell_type": "code",
   "execution_count": null,
   "metadata": {},
   "outputs": [],
   "source": [
    "# Some basis statistics using stats for EU CO2 emission\n",
    "df_EU.describe()\n"
   ]
  },
  {
   "cell_type": "code",
   "execution_count": null,
   "metadata": {},
   "outputs": [],
   "source": [
    "# Some basis statistics using stats for EU CO2 emission\n",
    "decribe_stat = df_EU.describe()\n",
    "# plot the df_EU.describe() each stat in a subplot\n",
    "fig, ax = plt.subplots(2, 3, figsize=(27, 12))\n",
    "fig.suptitle('Statistics for EU CO2 Emission')\n",
    "decribe_stat.loc['mean'].plot(kind='bar', ax=ax[0, 0], title='Mean',grid=True, yticks=range(0, 9))\n",
    "decribe_stat.loc['std'].plot(kind='bar', ax=ax[0, 1], title='Standard Deviation',grid=True, yticks=range(0, 9))\n",
    "decribe_stat.loc['min'].plot(kind='bar', ax=ax[0, 2], title='Min',grid=True, yticks=range(0, 5))\n",
    "decribe_stat.loc['25%'].plot(kind='bar', ax=ax[1, 0], title='25%',grid=True, yticks=range(0, 7))\n",
    "decribe_stat.loc['50%'].plot(kind='bar', ax=ax[1, 1], title='50%',grid=True, yticks=range(0, 9))\n",
    "decribe_stat.loc['75%'].plot(kind='bar', ax=ax[1, 2], title='75%',grid=True, yticks=range(0, 12))\n",
    "\n",
    "plt.show()\n",
    "#save the figure\n",
    "fig.savefig('EU_CO2_Emission_Statistics.png')\n"
   ]
  },
  {
   "cell_type": "code",
   "execution_count": null,
   "metadata": {},
   "outputs": [],
   "source": [
    "df_EU_yearly = df.copy()\n",
    "df_EU_yearly = df_EU.melt(id_vars='Country Name', var_name='Year', value_name='CO2 Emission')\n"
   ]
  },
  {
   "cell_type": "code",
   "execution_count": null,
   "metadata": {},
   "outputs": [],
   "source": [
    "for index, country in enumerate(EU):\n",
    "    y_min, y_max = 0, df_EU_yearly[df_EU_yearly['Country Name'] == country]['CO2 Emission'].max()   \n",
    "    print(f'{country} --> y_min: {y_min}, y_max: {y_max}')"
   ]
  },
  {
   "cell_type": "code",
   "execution_count": null,
   "metadata": {},
   "outputs": [],
   "source": [
    "# First first row is the year and first coloumn is the country name, make a plot where the x-axis is the year and the y-axis is the CO2 emission and make it so theres a subplot for each country\n",
    "col = 3\n",
    "rows = math.ceil(len(EU) / col)\n",
    "\n",
    "\n",
    "fig, ax = plt.subplots(rows, col, sharex=True, figsize=(24, 15))\n",
    "\n",
    "for index, country in enumerate(EU):\n",
    "    plt.subplot(rows, col, index+1)\n",
    "    plt.title(country)#, x = 0.1, y=0.7, pad=20) \n",
    "    plt.xlabel('Year')\n",
    "    plt.ylabel('CO2 Emission')\n",
    "    y_min, y_max = 0, df_EU_yearly[df_EU_yearly['Country Name'] == country]['CO2 Emission'].max()   \n",
    "    #print(f'{country} --> y_min: {y_min}, y_max: {y_max}')\n",
    "    plt.ylim([y_min, y_max])\n",
    "    y_interval = int((y_max - y_min) / 5) #if y_max != 'nan' else 0\n",
    "    plt.yticks(range(0, int(y_max), y_interval))\n",
    "    plt.xticks(rotation=90)\n",
    "    # Bar chart for each country with the CO2 emission for each year\n",
    "    plt.bar(df_EU_yearly[df_EU_yearly['Country Name'] == country]['Year'], df_EU_yearly[df_EU_yearly['Country Name'] == country]['CO2 Emission'])\n",
    "   \n",
    "    plt.tight_layout()\n",
    "    plt.title('CO2 Emission for ' + country)\n",
    "plt.tight_layout()\n",
    "\n",
    "# save to html\n",
    "plt.savefig('CO2_Emission_EU.png')\n",
    "fig.suptitle('CO2 Emission for each country in the EU distribuated through the years 1960-2018', fontsize=16, y=1.05)\n",
    "plt.show()\n",
    "\n"
   ]
  },
  {
   "cell_type": "code",
   "execution_count": null,
   "metadata": {},
   "outputs": [],
   "source": [
    "# First first row is the year and first coloumn is the country name, make a plot where the x-axis is the year and the y-axis is the CO2 emission and make it so theres a subplot for each country\n",
    "fig = px.line(df_EU_yearly, x='Year', y='CO2 Emission', color='Country Name', title='CO2 Emission per year for each country in the EU')\n",
    "fig.show()\n",
    "# save interactive figure as html\n",
    "fig.write_html(\"CO2_Emission_EU.html\")\n"
   ]
  },
  {
   "cell_type": "code",
   "execution_count": null,
   "metadata": {},
   "outputs": [],
   "source": [
    "# Timeserie with world co2 emission\n",
    "df_world = df.copy()\n",
    "df_world = df_world[~df_world['Country Name'].isin(EU)]\n",
    "df_world_yearly = df_world.melt(id_vars='Country Name', var_name='Year', value_name='CO2 Emission')\n",
    "#plot the world co2 emission\n",
    "fig = px.line(df_world_yearly, x='Year', y='CO2 Emission', color='Country Name', title='CO2 Emission per year for each country in the world')\n",
    "fig.show()\n",
    "# save interactive figure as html\n",
    "fig.write_html(\"CO2_Emission_World.html\")"
   ]
  },
  {
   "cell_type": "code",
   "execution_count": null,
   "metadata": {},
   "outputs": [],
   "source": [
    "df['max_year'] = df.select_dtypes(include=[np.number]).max(axis=1)\n",
    "df['year_max'] = df.select_dtypes(include=[np.number]).idxmax(axis=1)\n",
    "#df['min_year'] = df.min(axis=1)\n",
    "\n",
    "for i in range(4, 60):\n",
    "    df.loc[df['year_max'] == df.columns[i], 'year_max'] = df.columns[i]\n",
    "\n",
    "# plotly bar plot witg country name, max_year and year_max\n",
    "fig = go.Figure(data=[go.Table(\n",
    "    header=dict(values=['Country Name', 'Max CO2 Emission', 'Year of Max CO2 Emission']),\n",
    "    cells=dict(values=[df['Country Name'], df['max_year'], df['year_max']])\n",
    ")])\n",
    "fig.update_layout(title='Max CO2 Emission and Year of Max CO2 Emission for countries')\n",
    "#fig.write_html(\"Max_CO2_Emission_and_Year_of_Max_CO2_Emission_for_countries.html\")\n",
    "fig.show()\n",
    "#save as html\n",
    "fig.write_html(\"Max_CO2_Emission_and_Year_of_Max_CO2_Emission_for_countries.html\")\n"
   ]
  },
  {
   "cell_type": "code",
   "execution_count": null,
   "metadata": {},
   "outputs": [],
   "source": [
    "df_EU['max_year'] = df_EU.select_dtypes(include=[np.number]).max(axis=1)\n",
    "df_EU['min_year'] = df_EU.select_dtypes(include=[np.number]).min(axis=1)\n",
    "df_EU['year_max'] = df_EU.select_dtypes(include=[np.number]).idxmax(axis=1)\n",
    "df_EU['year_min'] = df_EU.select_dtypes(include=[np.number]).idxmin(axis=1)\n",
    "\n",
    "\n",
    "# plotly bar plot with country name, max_year, min_year, year_max and year_min\n",
    "fig = go.Figure(data=[go.Table(\n",
    "    header=dict(values=['Country Name', 'Max CO2 Emission', 'Year of Max CO2 Emission', 'Min CO2 Emission', 'Year of Min CO2 Emission']),\n",
    "    cells=dict(values=[df_EU['Country Name'], df_EU['max_year'], df_EU['year_max'], df_EU['min_year'], df_EU['year_min']])\n",
    ")])\n",
    "fig.update_layout(title='Max and Min CO2 Emission and Year of Max and Min CO2 Emission for EU countries')\n",
    "fig.write_html(\"List_Max_and_Min_CO2_Emission_and_Year_of_Max_and_Min_CO2_Emission_for_EU_countries.html\")\n",
    "fig.show()\n",
    "print(f'First part')"
   ]
  },
  {
   "cell_type": "code",
   "execution_count": null,
   "metadata": {},
   "outputs": [],
   "source": [
    "# plotly bar chart with country name, max_year, year_max, min_year and year_min\n",
    "fig = go.Figure(data=[ go.Bar(name='Min CO2 Emission', x=df_EU['Country Name'], y=df_EU['min_year'], text=df_EU['year_min'], textposition='auto'),\n",
    "                      go.Bar(name='Max CO2 Emission', x=df_EU['Country Name'], y=df_EU['max_year'], text=df_EU['year_max'], textposition='auto')])\n",
    "fig.update_layout(title='Max and Min CO2 Emission and Year of Max and Min CO2 Emission for EU countries', barmode='group')\n",
    "fig.write_html(\"Bar_chart_Max_and_Min_CO2_Emission_and_Year_of_Max_and_Min_CO2_Emission_for_EU_countries.html\")\n",
    "fig.show()"
   ]
  },
  {
   "cell_type": "markdown",
   "metadata": {},
   "source": [
    "## A1 Part 3: Visualizing geodata using Plotly\n",
    "\n",
    "In this sub-assignment I want you to create a choropleth map of San Francisco, showing where it's safest to leave your car on Sundays, following the instructions from Week 3.\n",
    "\n",
    "When you're done, reflect on the following questions.\n",
    "\n",
    "* Based on your map and analysis, where should you park the car for it to be safest on a Sunday? And where's the worst place?\n",
    "* Using visualizatios can help us uncover powerful data-patterns. However, when designing visualizations, we need to be aware of several illusions that can lead viewers to misinterpret the data we are showing (i.e. perceptual errors):\n",
    "   - Try to change the range of data-values in the plot above. Is there a way to make the difference between district less evident?\n",
    "   - Why do you think perceptual errors are a problem? Try to think of a few examples. "
   ]
  },
  {
   "cell_type": "code",
   "execution_count": null,
   "metadata": {},
   "outputs": [],
   "source": [
    "df_EU_yearly.head()"
   ]
  },
  {
   "cell_type": "code",
   "execution_count": null,
   "metadata": {},
   "outputs": [],
   "source": [
    "\n",
    "\n",
    "with  open('europe.geojson') as response: #### Using the geojson of lat and lon of San Fransisco\n",
    "    counties = geojson.load(response) \n",
    "\n",
    "fig = px.choropleth(df_EU_yearly, \n",
    "                           geojson=counties, \n",
    "                           locations='Country Name', \n",
    "                           featureidkey='properties.NAME',\n",
    "                           color='CO2 Emission',\n",
    "                           color_continuous_scale= \"turbo\", ## ????\n",
    "                           hover_name = 'Country Name',\n",
    "                           hover_data=  ['Year', 'CO2 Emission'],\n",
    "                           animation_frame='Year',\n",
    "                           #locationmode='geojson-id',\n",
    "                           range_color=(0, 40),\n",
    "                           #mapbox_style=\"carto-positron\",\n",
    "                           scope='europe',\n",
    "                           center = {\"lat\":52.52000660, \"lon\": 13.404954007},\n",
    "                           #opacity=1,\n",
    "                           #labels={'CO2 Emission':'CO2 Emission'}\n",
    "                           width=1000, height=800,\n",
    "                           title = 'CO2 for EU from 1960-2018'\n",
    "                          )\n",
    "\n",
    "fig.update_layout(margin={\"r\":0,\"t\":0,\"l\":0,\"b\":0})\n",
    "fig.show()\n",
    "#save as html\n",
    "fig.write_html(\"CO2_Emission_EU_Map_Online.html\", include_plotlyjs='cdn')\n",
    "\"\"\"'tealrose', 'tempo', 'temps', 'thermal', 'tropic', 'turbid',\n",
    "             'turbo', 'twilight', 'viridis', 'ylgn', 'ylgnbu', 'ylorbr',\n",
    "             'ylorrd'].\"\"\""
   ]
  }
 ],
 "metadata": {
  "kernelspec": {
   "display_name": "Python 3 (ipykernel)",
   "language": "python",
   "name": "python3"
  },
  "language_info": {
   "codemirror_mode": {
    "name": "ipython",
    "version": 3
   },
   "file_extension": ".py",
   "mimetype": "text/x-python",
   "name": "python",
   "nbconvert_exporter": "python",
   "pygments_lexer": "ipython3",
   "version": "3.11.2"
  }
 },
 "nbformat": 4,
 "nbformat_minor": 4
}
